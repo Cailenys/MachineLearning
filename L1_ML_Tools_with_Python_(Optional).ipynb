{
  "nbformat": 4,
  "nbformat_minor": 0,
  "metadata": {
    "colab": {
      "provenance": [],
      "include_colab_link": true
    },
    "kernelspec": {
      "name": "python3",
      "display_name": "Python 3"
    }
  },
  "cells": [
    {
      "cell_type": "markdown",
      "metadata": {
        "id": "view-in-github",
        "colab_type": "text"
      },
      "source": [
        "<a href=\"https://colab.research.google.com/github/cboyda/MachineLearning/blob/main/L1_ML_Tools_with_Python_(Optional).ipynb\" target=\"_parent\"><img src=\"https://colab.research.google.com/assets/colab-badge.svg\" alt=\"Open In Colab\"/></a>"
      ]
    },
    {
      "cell_type": "markdown",
      "source": [
        "###Disclaimer\n",
        "The information contained in this notebook and any accompanying files are proprietary and is confidential to the participants of the Machine Learning Technician program and should not be copied, distributed or reproduced in whole or in part, nor passed to any third party without written permission from the Alberta Machine Intelligence Institute, Amii."
      ],
      "metadata": {
        "id": "dfqy-_8S06la"
      }
    },
    {
      "cell_type": "markdown",
      "metadata": {
        "id": "stx_mI7SVQf-"
      },
      "source": [
        "#L1: ML Tools with Python (Optional)\n",
        "\n"
      ]
    },
    {
      "cell_type": "markdown",
      "metadata": {
        "id": "dohW3O3h_cHu"
      },
      "source": [
        "Before we start, let us point out that, as the title indicaes, this lab is meant as an optional (but highly recommended) review of the prerequisites and tools we use throught the program and is not intended as a part of the ML Technician program.\n",
        "\n",
        "Also remember you can search for the documentation of any of the functions mentiend here. All packages mentioned here have very thorough and easily-accessible documentations."
      ]
    },
    {
      "cell_type": "markdown",
      "source": [
        "**Note**: You only have read-only access to this and all further notebooks. In order to be able to modify things in this notebook, you have to copy the notebook to your own personal Google Drive, whioch you can do by selecting the 'Save a copy in Drive' option in 'File' menu. Then you will have a copy of the notebook in the 'Colab Notebooks' folder in your personal Google Drive."
      ],
      "metadata": {
        "id": "AzRSKcGe0FDB"
      }
    },
    {
      "cell_type": "markdown",
      "metadata": {
        "id": "gk6sRJqWQdgq"
      },
      "source": [
        "## Jupyter notebooks and Google Colab notebooks"
      ]
    },
    {
      "cell_type": "markdown",
      "source": [
        "Please review the following ideas before:"
      ],
      "metadata": {
        "id": "oaErsipRzcoQ"
      }
    },
    {
      "cell_type": "markdown",
      "metadata": {
        "id": "sf0Pxyq8QjrH"
      },
      "source": [
        "- Jupyter notebooks and the Google Colab environment:\n",
        "  - Cells\n",
        "  - Execution\n",
        "  - Text, markdown and math\n",
        "  - Outputs (text, graphics, tables)\n",
        "  - Menu\n",
        "  - Magic\n",
        "    - `%...?`\n",
        "    - `%whois`\n",
        "    - `%reset`, `%reset_selective`\n",
        "  - Installing packages `!pip  install ...`, `!apt-get install ...`\n",
        "- Python Objects\n",
        "  - Classes\n",
        "  - Objects or instances\n",
        "  - Methods\n",
        "  - Attributes"
      ]
    },
    {
      "cell_type": "markdown",
      "metadata": {
        "id": "QoTOqOpgWNLU"
      },
      "source": [
        "## Vectors, matrices and Numpy "
      ]
    },
    {
      "cell_type": "markdown",
      "metadata": {
        "id": "B7AKfa8ZWZ-f"
      },
      "source": [
        "In Python, we can define vectors with lists and matrices with lists of lists:"
      ]
    },
    {
      "cell_type": "code",
      "metadata": {
        "id": "XVaKw0dDWjiT"
      },
      "source": [
        "v = [3, 2, 1]"
      ],
      "execution_count": null,
      "outputs": []
    },
    {
      "cell_type": "code",
      "metadata": {
        "id": "AocrbtybWl0L",
        "outputId": "21469ed9-1750-458a-8a8f-31925bd8aa92",
        "colab": {
          "base_uri": "https://localhost:8080/"
        }
      },
      "source": [
        "v"
      ],
      "execution_count": null,
      "outputs": [
        {
          "output_type": "execute_result",
          "data": {
            "text/plain": [
              "[3, 2, 1]"
            ]
          },
          "metadata": {},
          "execution_count": 2
        }
      ]
    },
    {
      "cell_type": "code",
      "metadata": {
        "id": "sO8Nzw-EWmeC"
      },
      "source": [
        "M = [[1, 4, 5], [-1, 2, 7], [0, 0, 3]]"
      ],
      "execution_count": 19,
      "outputs": []
    },
    {
      "cell_type": "code",
      "metadata": {
        "id": "W_vVpPuXWomO"
      },
      "source": [
        "M"
      ],
      "execution_count": null,
      "outputs": []
    },
    {
      "cell_type": "markdown",
      "metadata": {
        "id": "A0rEfLfaWse1"
      },
      "source": [
        "...and we can access elements using indexing operators (we can also access rows of a matrix defined this way by using a single indexing operator):"
      ]
    },
    {
      "cell_type": "code",
      "metadata": {
        "id": "uIqF39H6W-IF"
      },
      "source": [
        "v[1]"
      ],
      "execution_count": null,
      "outputs": []
    },
    {
      "cell_type": "code",
      "metadata": {
        "id": "CQLcdVHhW-2r"
      },
      "source": [
        "M[1][0]"
      ],
      "execution_count": null,
      "outputs": []
    },
    {
      "cell_type": "code",
      "metadata": {
        "id": "OGu6sVYwXA0r",
        "outputId": "00077e4d-affc-4b65-8951-ba3faac159ca",
        "colab": {
          "base_uri": "https://localhost:8080/",
          "height": 171
        }
      },
      "source": [
        "M[2]"
      ],
      "execution_count": 18,
      "outputs": [
        {
          "output_type": "error",
          "ename": "NameError",
          "evalue": "ignored",
          "traceback": [
            "\u001b[0;31m---------------------------------------------------------------------------\u001b[0m",
            "\u001b[0;31mNameError\u001b[0m                                 Traceback (most recent call last)",
            "\u001b[0;32m<ipython-input-18-159938587d05>\u001b[0m in \u001b[0;36m<module>\u001b[0;34m\u001b[0m\n\u001b[0;32m----> 1\u001b[0;31m \u001b[0mM\u001b[0m\u001b[0;34m[\u001b[0m\u001b[0;36m2\u001b[0m\u001b[0;34m]\u001b[0m\u001b[0;34m\u001b[0m\u001b[0;34m\u001b[0m\u001b[0m\n\u001b[0m",
            "\u001b[0;31mNameError\u001b[0m: name 'M' is not defined"
          ]
        }
      ]
    },
    {
      "cell_type": "markdown",
      "metadata": {
        "id": "SxWuJldkXJYJ"
      },
      "source": [
        "However, this is a very time-inefficient way to store vectors and matrices. Vectors and matrices are usually composed of elements with the same data type. And we often perform arithmetic (and other kinds of) operations on vectors and matrices of huge sizes, so, we need the operations to be time-efficient.\n",
        "\n",
        "Fortunately, Python has a package just for that: [NumPy](https://numpy.org/)!"
      ]
    },
    {
      "cell_type": "code",
      "metadata": {
        "id": "2zhNe7eLX6oa"
      },
      "source": [
        "import numpy as np"
      ],
      "execution_count": 6,
      "outputs": []
    },
    {
      "cell_type": "markdown",
      "metadata": {
        "id": "Ofd4hhN0X_9F"
      },
      "source": [
        "Now, let's create a NumPy *array* (which is the data structure we use to keep vectors and matrices) from our matrix `M` defined as a list of lists: "
      ]
    },
    {
      "cell_type": "code",
      "metadata": {
        "id": "LUduHVjJYPyH"
      },
      "source": [
        "A = np.array(M)"
      ],
      "execution_count": 20,
      "outputs": []
    },
    {
      "cell_type": "markdown",
      "metadata": {
        "id": "EIzFF0U2YSgw"
      },
      "source": [
        "This is one way of defining a NumPy array. There are other ways as well. For now, let's check this new NumPy array `A`: "
      ]
    },
    {
      "cell_type": "code",
      "metadata": {
        "id": "oFh01-2cYcBy"
      },
      "source": [
        "type(A)"
      ],
      "execution_count": null,
      "outputs": []
    },
    {
      "cell_type": "markdown",
      "metadata": {
        "id": "lJ33jY00Yl_B"
      },
      "source": [
        "The type is `ndarray` ($n$-D array as in $n$-dimensional array) defined in package `numpy` (remember the dot here denotes package membership)."
      ]
    },
    {
      "cell_type": "code",
      "metadata": {
        "id": "YbhrPbjHYeMJ"
      },
      "source": [
        "A"
      ],
      "execution_count": null,
      "outputs": []
    },
    {
      "cell_type": "markdown",
      "metadata": {
        "id": "xx4BVHAtZU1_"
      },
      "source": [
        "The data is displayed like a list of lists wrapped in an array. It is only represented that way and is not representative of how things are composed inside an array.\n",
        "You can't have an array with mixed data types:"
      ]
    },
    {
      "cell_type": "code",
      "metadata": {
        "id": "-3qogu3ZZ3dm"
      },
      "source": [
        "np.array([1, \"Hello\"])"
      ],
      "execution_count": null,
      "outputs": []
    },
    {
      "cell_type": "markdown",
      "metadata": {
        "id": "EPepxAfnatO8"
      },
      "source": [
        "See how the `'1'` is not an integer anymore but rather converted to a string and how the array has a data type `dtype` property which is for the whole array (which in this case is `<U21`, a kind of unicode text string).\n",
        "\n",
        "You can't have with a usual list of lists of different sizes neither:"
      ]
    },
    {
      "cell_type": "code",
      "metadata": {
        "id": "tnowyZYFbi0W",
        "outputId": "ada0076e-886a-4b90-9659-1451fce0df67",
        "colab": {
          "base_uri": "https://localhost:8080/",
          "height": 171
        }
      },
      "source": [
        "np.array([[1, 2, 3], [4, 5]])"
      ],
      "execution_count": 1,
      "outputs": [
        {
          "output_type": "error",
          "ename": "NameError",
          "evalue": "ignored",
          "traceback": [
            "\u001b[0;31m---------------------------------------------------------------------------\u001b[0m",
            "\u001b[0;31mNameError\u001b[0m                                 Traceback (most recent call last)",
            "\u001b[0;32m<ipython-input-1-56e6bd8a65c1>\u001b[0m in \u001b[0;36m<module>\u001b[0;34m\u001b[0m\n\u001b[0;32m----> 1\u001b[0;31m \u001b[0mnp\u001b[0m\u001b[0;34m.\u001b[0m\u001b[0marray\u001b[0m\u001b[0;34m(\u001b[0m\u001b[0;34m[\u001b[0m\u001b[0;34m[\u001b[0m\u001b[0;36m1\u001b[0m\u001b[0;34m,\u001b[0m \u001b[0;36m2\u001b[0m\u001b[0;34m,\u001b[0m \u001b[0;36m3\u001b[0m\u001b[0;34m]\u001b[0m\u001b[0;34m,\u001b[0m \u001b[0;34m[\u001b[0m\u001b[0;36m4\u001b[0m\u001b[0;34m,\u001b[0m \u001b[0;36m5\u001b[0m\u001b[0;34m]\u001b[0m\u001b[0;34m]\u001b[0m\u001b[0;34m)\u001b[0m\u001b[0;34m\u001b[0m\u001b[0;34m\u001b[0m\u001b[0m\n\u001b[0m",
            "\u001b[0;31mNameError\u001b[0m: name 'np' is not defined"
          ]
        }
      ]
    },
    {
      "cell_type": "markdown",
      "metadata": {
        "id": "VnYSkQa5b0xh"
      },
      "source": [
        "You get an array containing two named `list` objects, not the usual representation."
      ]
    },
    {
      "cell_type": "markdown",
      "metadata": {
        "id": "BGd5FPYBcnVE"
      },
      "source": [
        "Operating on this new NumPy array data type, we have new operations defined. You can use `shape` attribute to check the size of an array:"
      ]
    },
    {
      "cell_type": "code",
      "metadata": {
        "id": "KygK6DeBcIaz"
      },
      "source": [
        "A.shape"
      ],
      "execution_count": null,
      "outputs": []
    },
    {
      "cell_type": "markdown",
      "metadata": {
        "id": "Ut1DWVCTdDvu"
      },
      "source": [
        "...and if you had an array containing a vector:"
      ]
    },
    {
      "cell_type": "code",
      "metadata": {
        "id": "07nxPsXpdIT1"
      },
      "source": [
        "w = np.array(v)\n",
        "display(w)\n",
        "w.shape"
      ],
      "execution_count": null,
      "outputs": []
    },
    {
      "cell_type": "markdown",
      "metadata": {
        "id": "NdAhYqdMdP32"
      },
      "source": [
        "Just beware that sometimes, we may prefer having matricized vectors:"
      ]
    },
    {
      "cell_type": "code",
      "metadata": {
        "id": "SBLjyMTwdb28"
      },
      "source": [
        "v2 = [[3], [2], [1]]\n",
        "\n",
        "w2 = np.array([[3], [2], [1]])\n",
        "display(w2)\n",
        "w2.shape"
      ],
      "execution_count": null,
      "outputs": []
    },
    {
      "cell_type": "markdown",
      "metadata": {
        "id": "VZOhTJm51JCE"
      },
      "source": [
        "To index NumPy arrays, you can put all indices for different dimensions inside the same indexing operator pairs with the indices for axes separated by commas:"
      ]
    },
    {
      "cell_type": "code",
      "metadata": {
        "id": "ToTc01lR1bVQ"
      },
      "source": [
        "A[1, 2]"
      ],
      "execution_count": null,
      "outputs": []
    },
    {
      "cell_type": "markdown",
      "metadata": {
        "id": "LudDoZod10a5"
      },
      "source": [
        "You can use the lists of lists indexing technique as well:"
      ]
    },
    {
      "cell_type": "code",
      "metadata": {
        "id": "g_HdwPF81vU0"
      },
      "source": [
        "A[1, 2] == A[1][2]"
      ],
      "execution_count": null,
      "outputs": []
    },
    {
      "cell_type": "markdown",
      "metadata": {
        "id": "vsoiKEby1Y19"
      },
      "source": [
        "You can use the same techniques for choosing a range of indices:"
      ]
    },
    {
      "cell_type": "code",
      "metadata": {
        "id": "mSIZX4zK1j6m"
      },
      "source": [
        "A[0:2, :-1]"
      ],
      "execution_count": null,
      "outputs": []
    },
    {
      "cell_type": "markdown",
      "metadata": {
        "id": "EKPs8dHx2iXV"
      },
      "source": [
        "You can also use `...` to specify the whole range for the remainder of directions (useful especially with higher-dimensional arrays):"
      ]
    },
    {
      "cell_type": "code",
      "metadata": {
        "id": "VVS-mgbC2fWu"
      },
      "source": [
        "A[1, ...]"
      ],
      "execution_count": null,
      "outputs": []
    },
    {
      "cell_type": "markdown",
      "metadata": {
        "id": "QZiCKYM-2xI5"
      },
      "source": [
        "...which is basically:"
      ]
    },
    {
      "cell_type": "code",
      "metadata": {
        "id": "2brumqRm2vl5"
      },
      "source": [
        "A[1, :]"
      ],
      "execution_count": null,
      "outputs": []
    },
    {
      "cell_type": "markdown",
      "metadata": {
        "id": "9T1y037321ps"
      },
      "source": [
        "...and if you had a higher dimensional array:"
      ]
    },
    {
      "cell_type": "code",
      "metadata": {
        "id": "9hifQM4O256R",
        "outputId": "c146db3f-304b-4d1c-9c42-6a945a21fc69",
        "colab": {
          "base_uri": "https://localhost:8080/",
          "height": 245
        }
      },
      "source": [
        "A_h = np.array([[[[1, 2, 3, 4], \n",
        "                  [2, 3, 4, 5], \n",
        "                  [3, 4, 5, 6]], \n",
        "                 [[-1, -2, -3, -4], \n",
        "                  [-2, -3, -4, -5], \n",
        "                  [-3, -4, -5, -6]]]])"
      ],
      "execution_count": 2,
      "outputs": [
        {
          "output_type": "error",
          "ename": "NameError",
          "evalue": "ignored",
          "traceback": [
            "\u001b[0;31m---------------------------------------------------------------------------\u001b[0m",
            "\u001b[0;31mNameError\u001b[0m                                 Traceback (most recent call last)",
            "\u001b[0;32m<ipython-input-2-6771cc94c0c6>\u001b[0m in \u001b[0;36m<module>\u001b[0;34m\u001b[0m\n\u001b[0;32m----> 1\u001b[0;31m A_h = np.array([[[[1, 2, 3, 4], \n\u001b[0m\u001b[1;32m      2\u001b[0m                   \u001b[0;34m[\u001b[0m\u001b[0;36m2\u001b[0m\u001b[0;34m,\u001b[0m \u001b[0;36m3\u001b[0m\u001b[0;34m,\u001b[0m \u001b[0;36m4\u001b[0m\u001b[0;34m,\u001b[0m \u001b[0;36m5\u001b[0m\u001b[0;34m]\u001b[0m\u001b[0;34m,\u001b[0m\u001b[0;34m\u001b[0m\u001b[0;34m\u001b[0m\u001b[0m\n\u001b[1;32m      3\u001b[0m                   [3, 4, 5, 6]], \n\u001b[1;32m      4\u001b[0m                  [[-1, -2, -3, -4], \n\u001b[1;32m      5\u001b[0m                   \u001b[0;34m[\u001b[0m\u001b[0;34m-\u001b[0m\u001b[0;36m2\u001b[0m\u001b[0;34m,\u001b[0m \u001b[0;34m-\u001b[0m\u001b[0;36m3\u001b[0m\u001b[0;34m,\u001b[0m \u001b[0;34m-\u001b[0m\u001b[0;36m4\u001b[0m\u001b[0;34m,\u001b[0m \u001b[0;34m-\u001b[0m\u001b[0;36m5\u001b[0m\u001b[0;34m]\u001b[0m\u001b[0;34m,\u001b[0m\u001b[0;34m\u001b[0m\u001b[0;34m\u001b[0m\u001b[0m\n",
            "\u001b[0;31mNameError\u001b[0m: name 'np' is not defined"
          ]
        }
      ]
    },
    {
      "cell_type": "code",
      "metadata": {
        "id": "HfelKlXb203W"
      },
      "source": [
        "A_h"
      ],
      "execution_count": null,
      "outputs": []
    },
    {
      "cell_type": "code",
      "metadata": {
        "id": "XlfrLybh3cNT"
      },
      "source": [
        "A_h.shape"
      ],
      "execution_count": null,
      "outputs": []
    },
    {
      "cell_type": "code",
      "metadata": {
        "id": "a8XPIqwc3d5U",
        "outputId": "51056a14-b892-40d1-ab01-067affb8671a",
        "colab": {
          "base_uri": "https://localhost:8080/",
          "height": 171
        }
      },
      "source": [
        "A_h.ndim"
      ],
      "execution_count": 1,
      "outputs": [
        {
          "output_type": "error",
          "ename": "NameError",
          "evalue": "ignored",
          "traceback": [
            "\u001b[0;31m---------------------------------------------------------------------------\u001b[0m",
            "\u001b[0;31mNameError\u001b[0m                                 Traceback (most recent call last)",
            "\u001b[0;32m<ipython-input-1-9b25dba704ea>\u001b[0m in \u001b[0;36m<module>\u001b[0;34m\u001b[0m\n\u001b[0;32m----> 1\u001b[0;31m \u001b[0mA_h\u001b[0m\u001b[0;34m.\u001b[0m\u001b[0mndim\u001b[0m\u001b[0;34m\u001b[0m\u001b[0;34m\u001b[0m\u001b[0m\n\u001b[0m",
            "\u001b[0;31mNameError\u001b[0m: name 'A_h' is not defined"
          ]
        }
      ]
    },
    {
      "cell_type": "markdown",
      "metadata": {
        "id": "VT35eaO34a6k"
      },
      "source": [
        "Then:"
      ]
    },
    {
      "cell_type": "code",
      "metadata": {
        "id": "PvsQRbcw4Ydb"
      },
      "source": [
        "A_h[0, ...]"
      ],
      "execution_count": null,
      "outputs": []
    },
    {
      "cell_type": "code",
      "metadata": {
        "id": "CZH8uH2Y4cxB"
      },
      "source": [
        "A_h[0, :, :, :]"
      ],
      "execution_count": null,
      "outputs": []
    },
    {
      "cell_type": "markdown",
      "metadata": {
        "id": "sdyjfAbEh9Es"
      },
      "source": [
        "###Matrix multiplication"
      ]
    },
    {
      "cell_type": "markdown",
      "metadata": {
        "id": "yxhgyINUiCyX"
      },
      "source": [
        "Let's implement a matrix multplication with matrices represeneted as lists of lists first:"
      ]
    },
    {
      "cell_type": "code",
      "metadata": {
        "id": "fuYFyKkgiMBB"
      },
      "source": [
        "def multiply_list_vec(A, B):\n",
        "  nrA = len(A)\n",
        "  ncA = len(A[0])\n",
        "  nrB = len(B)\n",
        "  ncB = len(B[0])\n",
        "  if ncA != nrB:\n",
        "    return None\n",
        "  C = []\n",
        "  for rnum in range(nrA):\n",
        "    C.append([])\n",
        "    for cnum in range(ncB):\n",
        "      C[rnum].append(0)\n",
        "      for third in range(ncA):\n",
        "          C[rnum][cnum] += A[rnum][third] * B[third][cnum]\n",
        "  return C"
      ],
      "execution_count": 3,
      "outputs": []
    },
    {
      "cell_type": "markdown",
      "metadata": {
        "id": "pd1KNrvliRN2"
      },
      "source": [
        "Now, let's use that:"
      ]
    },
    {
      "cell_type": "code",
      "metadata": {
        "id": "Ju0XCWFJiTN-",
        "outputId": "10f5e48f-629b-41e1-ce64-0c162010d83b",
        "colab": {
          "base_uri": "https://localhost:8080/"
        }
      },
      "source": [
        "exampleA = [[1, 1, 1], [1, 1, 1]]\n",
        "exampleB = [[3], [4], [5]]\n",
        "\n",
        "multiply_list_vec(exampleA, exampleB)"
      ],
      "execution_count": 4,
      "outputs": [
        {
          "output_type": "execute_result",
          "data": {
            "text/plain": [
              "[[12], [12]]"
            ]
          },
          "metadata": {},
          "execution_count": 4
        }
      ]
    },
    {
      "cell_type": "markdown",
      "metadata": {
        "id": "3BfruZytiXy4"
      },
      "source": [
        "Matrix multplication using NumPy array is simply done using the `dot` function defined in NumPy package:"
      ]
    },
    {
      "cell_type": "code",
      "metadata": {
        "id": "-ldfY5Jmilfh"
      },
      "source": [
        "M1 = np.array(exampleA)\n",
        "M2 = np.array(exampleB)"
      ],
      "execution_count": 7,
      "outputs": []
    },
    {
      "cell_type": "code",
      "metadata": {
        "id": "5TbLuNrqili8",
        "outputId": "c82a7953-62d2-43e5-b31e-988b2c2d350a",
        "colab": {
          "base_uri": "https://localhost:8080/"
        }
      },
      "source": [
        "np.dot(M1, M2)"
      ],
      "execution_count": 8,
      "outputs": [
        {
          "output_type": "execute_result",
          "data": {
            "text/plain": [
              "array([[12],\n",
              "       [12]])"
            ]
          },
          "metadata": {},
          "execution_count": 8
        }
      ]
    },
    {
      "cell_type": "markdown",
      "metadata": {
        "id": "pr2eGh5yirdQ"
      },
      "source": [
        "You can also use the `@` operation which is really just an alias for `dot`:"
      ]
    },
    {
      "cell_type": "code",
      "metadata": {
        "id": "AByHWVD5i3ZT",
        "outputId": "d1760145-a941-48f1-acbc-29e11ea9856b",
        "colab": {
          "base_uri": "https://localhost:8080/"
        }
      },
      "source": [
        "M1 @ M2"
      ],
      "execution_count": 9,
      "outputs": [
        {
          "output_type": "execute_result",
          "data": {
            "text/plain": [
              "array([[12],\n",
              "       [12]])"
            ]
          },
          "metadata": {},
          "execution_count": 9
        }
      ]
    },
    {
      "cell_type": "markdown",
      "metadata": {
        "id": "bB72F3lg5qEv"
      },
      "source": [
        "####Why NumPy!"
      ]
    },
    {
      "cell_type": "markdown",
      "metadata": {
        "id": "nlHFfEEW5ugx"
      },
      "source": [
        "Let's time the two matrix multiplication and compare:"
      ]
    },
    {
      "cell_type": "code",
      "metadata": {
        "id": "0ub7xXDl50Ny"
      },
      "source": [
        "import time"
      ],
      "execution_count": 10,
      "outputs": []
    },
    {
      "cell_type": "code",
      "metadata": {
        "id": "zY2NG7g65n8s"
      },
      "source": [
        "testA = np.random.random((100, 200))\n",
        "testB = np.random.random((200, 400))"
      ],
      "execution_count": 11,
      "outputs": []
    },
    {
      "cell_type": "markdown",
      "metadata": {
        "id": "J9We64-PmuKy"
      },
      "source": [
        "These functions generate random matrices using NumPy and we will explain them later. Let's proceed to timing comparison:"
      ]
    },
    {
      "cell_type": "code",
      "metadata": {
        "id": "xPJUQtyXmgA9",
        "outputId": "f94551f9-ea88-43e6-b083-0f584cf2d53a",
        "colab": {
          "base_uri": "https://localhost:8080/"
        }
      },
      "source": [
        "start_time = time.time()\n",
        "multiply_list_vec(testA, testB)\n",
        "end_time = time.time()\n",
        "print(\"Time elapsed using lists :\", end_time - start_time)"
      ],
      "execution_count": 12,
      "outputs": [
        {
          "output_type": "stream",
          "name": "stdout",
          "text": [
            "Time elapsed using lists : 6.420735120773315\n"
          ]
        }
      ]
    },
    {
      "cell_type": "code",
      "metadata": {
        "id": "_i68CWD1mfxi",
        "outputId": "3846fe50-c4da-4c58-8ae2-c32957aee5f0",
        "colab": {
          "base_uri": "https://localhost:8080/"
        }
      },
      "source": [
        "start_time = time.time()\n",
        "testA @ testB\n",
        "end_time = time.time()\n",
        "print(\"Time elapsed using NumPy :\", end_time - start_time)"
      ],
      "execution_count": 13,
      "outputs": [
        {
          "output_type": "stream",
          "name": "stdout",
          "text": [
            "Time elapsed using NumPy : 0.008374929428100586\n"
          ]
        }
      ]
    },
    {
      "cell_type": "markdown",
      "metadata": {
        "id": "-3To2HOA57v1"
      },
      "source": [
        "###More NumPy methods, attributes and functions"
      ]
    },
    {
      "cell_type": "markdown",
      "metadata": {
        "id": "pi9iY9j56WjS"
      },
      "source": [
        "Arithmetic operations with symbols that are defined in (regular) Python on matrices are *element-wise*. That means addition and subtraction act similarly to matrix addition and subtraction, however, multiplication is what is called the *Hadamard product* rather than matrix multiplication:"
      ]
    },
    {
      "cell_type": "code",
      "metadata": {
        "id": "_m70YKBW6OXF"
      },
      "source": [
        "B = np.array([[10, -1, 3], [6, 6, 6], [-9, 5, 8]])"
      ],
      "execution_count": 48,
      "outputs": []
    },
    {
      "cell_type": "code",
      "source": [
        "B = np.array([[10, -1, 3]])"
      ],
      "metadata": {
        "id": "01ODsoNOM4Zd"
      },
      "execution_count": 41,
      "outputs": []
    },
    {
      "cell_type": "code",
      "metadata": {
        "id": "j6k6hymT7ulQ",
        "outputId": "79330bf5-6d9e-42d5-a0ad-3099ab8a6676",
        "colab": {
          "base_uri": "https://localhost:8080/",
          "height": 72
        }
      },
      "source": [
        "display(A)"
      ],
      "execution_count": 21,
      "outputs": [
        {
          "output_type": "display_data",
          "data": {
            "text/plain": [
              "array([[ 1,  4,  5],\n",
              "       [-1,  2,  7],\n",
              "       [ 0,  0,  3]])"
            ]
          },
          "metadata": {}
        }
      ]
    },
    {
      "cell_type": "code",
      "metadata": {
        "id": "POkLupnO7v_N",
        "outputId": "09bdca66-be14-4f98-eb16-290974108bf2",
        "colab": {
          "base_uri": "https://localhost:8080/",
          "height": 72
        }
      },
      "source": [
        "display(B)"
      ],
      "execution_count": 16,
      "outputs": [
        {
          "output_type": "display_data",
          "data": {
            "text/plain": [
              "array([[10, -1,  3],\n",
              "       [ 6,  6,  6],\n",
              "       [-9,  5,  8]])"
            ]
          },
          "metadata": {}
        }
      ]
    },
    {
      "cell_type": "markdown",
      "metadata": {
        "id": "RtX6aCfRsREd"
      },
      "source": [
        "Addition:"
      ]
    },
    {
      "cell_type": "code",
      "metadata": {
        "id": "2VRbyR6m7WcT",
        "outputId": "93889b21-8e36-4ffb-ea7a-9f168397f806",
        "colab": {
          "base_uri": "https://localhost:8080/"
        }
      },
      "source": [
        "A + B"
      ],
      "execution_count": 22,
      "outputs": [
        {
          "output_type": "execute_result",
          "data": {
            "text/plain": [
              "array([[11,  3,  8],\n",
              "       [ 5,  8, 13],\n",
              "       [-9,  5, 11]])"
            ]
          },
          "metadata": {},
          "execution_count": 22
        }
      ]
    },
    {
      "cell_type": "markdown",
      "metadata": {
        "id": "6fMcOwsvsJOV"
      },
      "source": [
        "You can also use `add` from NumPy:"
      ]
    },
    {
      "cell_type": "code",
      "metadata": {
        "id": "ibtqolxfsNYr",
        "outputId": "8942b749-b80e-4523-9275-66368850cb81",
        "colab": {
          "base_uri": "https://localhost:8080/"
        }
      },
      "source": [
        "np.add(A, B)"
      ],
      "execution_count": 23,
      "outputs": [
        {
          "output_type": "execute_result",
          "data": {
            "text/plain": [
              "array([[11,  3,  8],\n",
              "       [ 5,  8, 13],\n",
              "       [-9,  5, 11]])"
            ]
          },
          "metadata": {},
          "execution_count": 23
        }
      ]
    },
    {
      "cell_type": "markdown",
      "metadata": {
        "id": "Mr7vVtevsStn"
      },
      "source": [
        "Subtraction:"
      ]
    },
    {
      "cell_type": "code",
      "metadata": {
        "id": "9mMJIVBU7bj1",
        "outputId": "2e954e68-4c37-4304-e612-cb4f1fb4bf62",
        "colab": {
          "base_uri": "https://localhost:8080/"
        }
      },
      "source": [
        "A - B"
      ],
      "execution_count": 24,
      "outputs": [
        {
          "output_type": "execute_result",
          "data": {
            "text/plain": [
              "array([[-9,  5,  2],\n",
              "       [-7, -4,  1],\n",
              "       [ 9, -5, -5]])"
            ]
          },
          "metadata": {},
          "execution_count": 24
        }
      ]
    },
    {
      "cell_type": "markdown",
      "metadata": {
        "id": "Prfk7KYpsUGT"
      },
      "source": [
        "You can also use `subtract` from NumPy:"
      ]
    },
    {
      "cell_type": "code",
      "metadata": {
        "id": "XJyDTqi8sUM-",
        "outputId": "6902bb5d-2297-48ce-f3de-8870e2d66063",
        "colab": {
          "base_uri": "https://localhost:8080/"
        }
      },
      "source": [
        "np.subtract(A, B)"
      ],
      "execution_count": 25,
      "outputs": [
        {
          "output_type": "execute_result",
          "data": {
            "text/plain": [
              "array([[-9,  5,  2],\n",
              "       [-7, -4,  1],\n",
              "       [ 9, -5, -5]])"
            ]
          },
          "metadata": {},
          "execution_count": 25
        }
      ]
    },
    {
      "cell_type": "markdown",
      "metadata": {
        "id": "g0Egtae8sbKE"
      },
      "source": [
        "Hadamard (element-wise) product, $A \\odot B$:"
      ]
    },
    {
      "cell_type": "code",
      "metadata": {
        "id": "R8mrU5fY7dVn",
        "outputId": "060eaca5-6d6a-46d1-835e-0018a1c05b8b",
        "colab": {
          "base_uri": "https://localhost:8080/"
        }
      },
      "source": [
        "A * B"
      ],
      "execution_count": 26,
      "outputs": [
        {
          "output_type": "execute_result",
          "data": {
            "text/plain": [
              "array([[10, -4, 15],\n",
              "       [-6, 12, 42],\n",
              "       [ 0,  0, 24]])"
            ]
          },
          "metadata": {},
          "execution_count": 26
        }
      ]
    },
    {
      "cell_type": "markdown",
      "metadata": {
        "id": "XFB_Am_X7gpD"
      },
      "source": [
        "Where matrix multiplication would have given:"
      ]
    },
    {
      "cell_type": "code",
      "metadata": {
        "id": "4qth_5-G7kag",
        "outputId": "a07b6b38-cdbc-49b8-d910-75be7589925e",
        "colab": {
          "base_uri": "https://localhost:8080/",
          "height": 190
        }
      },
      "source": [
        "A @ B"
      ],
      "execution_count": 47,
      "outputs": [
        {
          "output_type": "error",
          "ename": "ValueError",
          "evalue": "ignored",
          "traceback": [
            "\u001b[0;31m---------------------------------------------------------------------------\u001b[0m",
            "\u001b[0;31mValueError\u001b[0m                                Traceback (most recent call last)",
            "\u001b[0;32m<ipython-input-47-455d622f3b50>\u001b[0m in \u001b[0;36m<module>\u001b[0;34m\u001b[0m\n\u001b[0;32m----> 1\u001b[0;31m \u001b[0mA\u001b[0m \u001b[0;34m@\u001b[0m \u001b[0mB\u001b[0m\u001b[0;34m\u001b[0m\u001b[0;34m\u001b[0m\u001b[0m\n\u001b[0m",
            "\u001b[0;31mValueError\u001b[0m: matmul: Input operand 1 has a mismatch in its core dimension 0, with gufunc signature (n?,k),(k,m?)->(n?,m?) (size 1 is different from 3)"
          ]
        }
      ]
    },
    {
      "cell_type": "markdown",
      "metadata": {
        "id": "XgJ53HxNshtF"
      },
      "source": [
        "You can also use `multiply` for Hadamard product:"
      ]
    },
    {
      "cell_type": "code",
      "metadata": {
        "id": "zUWjajcTsypO",
        "outputId": "f0198d81-80e6-444e-a9b4-3e445ad3a55e",
        "colab": {
          "base_uri": "https://localhost:8080/"
        }
      },
      "source": [
        "np.multiply(A, B)"
      ],
      "execution_count": 28,
      "outputs": [
        {
          "output_type": "execute_result",
          "data": {
            "text/plain": [
              "array([[10, -4, 15],\n",
              "       [-6, 12, 42],\n",
              "       [ 0,  0, 24]])"
            ]
          },
          "metadata": {},
          "execution_count": 28
        }
      ]
    },
    {
      "cell_type": "markdown",
      "metadata": {
        "id": "QO-LaapXsyx4"
      },
      "source": [
        "You can also other arithmetic operations and all of them are element-wise. For example division, `/` or `divide`:"
      ]
    },
    {
      "cell_type": "code",
      "metadata": {
        "id": "iUo4gULgtEvn",
        "outputId": "0e8f1de8-c666-4f6a-aeaf-44c398a38713",
        "colab": {
          "base_uri": "https://localhost:8080/"
        }
      },
      "source": [
        "A / B"
      ],
      "execution_count": 29,
      "outputs": [
        {
          "output_type": "execute_result",
          "data": {
            "text/plain": [
              "array([[ 0.1       , -4.        ,  1.66666667],\n",
              "       [-0.16666667,  0.33333333,  1.16666667],\n",
              "       [-0.        ,  0.        ,  0.375     ]])"
            ]
          },
          "metadata": {},
          "execution_count": 29
        }
      ]
    },
    {
      "cell_type": "code",
      "metadata": {
        "id": "91j-yX8ZtHih",
        "outputId": "d8baaa85-9c04-4d98-deb3-a9a7db5c4b2c",
        "colab": {
          "base_uri": "https://localhost:8080/"
        }
      },
      "source": [
        "np.divide(A, B)"
      ],
      "execution_count": 30,
      "outputs": [
        {
          "output_type": "execute_result",
          "data": {
            "text/plain": [
              "array([[ 0.1       , -4.        ,  1.66666667],\n",
              "       [-0.16666667,  0.33333333,  1.16666667],\n",
              "       [-0.        ,  0.        ,  0.375     ]])"
            ]
          },
          "metadata": {},
          "execution_count": 30
        }
      ]
    },
    {
      "cell_type": "markdown",
      "metadata": {
        "id": "MtsmM4EWtMMz"
      },
      "source": [
        "And other examples:"
      ]
    },
    {
      "cell_type": "code",
      "metadata": {
        "id": "yOnXlSpYtN9R",
        "outputId": "5adfbfd1-f959-431b-c4a6-15cb7630a726",
        "colab": {
          "base_uri": "https://localhost:8080/"
        }
      },
      "source": [
        "A // B"
      ],
      "execution_count": 46,
      "outputs": [
        {
          "output_type": "execute_result",
          "data": {
            "text/plain": [
              "array([[ 0, -4,  1],\n",
              "       [-1, -2,  2],\n",
              "       [ 0,  0,  1]])"
            ]
          },
          "metadata": {},
          "execution_count": 46
        }
      ]
    },
    {
      "cell_type": "code",
      "metadata": {
        "id": "tbE6AuChtQAr",
        "outputId": "50b23385-b89b-4ca4-c9f0-2b2091a1296f",
        "colab": {
          "base_uri": "https://localhost:8080/"
        }
      },
      "source": [
        "A % B"
      ],
      "execution_count": 32,
      "outputs": [
        {
          "output_type": "execute_result",
          "data": {
            "text/plain": [
              "array([[1, 0, 2],\n",
              "       [5, 2, 1],\n",
              "       [0, 0, 3]])"
            ]
          },
          "metadata": {},
          "execution_count": 32
        }
      ]
    },
    {
      "cell_type": "code",
      "metadata": {
        "id": "RGs-4nNPtR1u",
        "outputId": "b5a1b8e5-9104-4f37-cf1d-7fa2080e41de",
        "colab": {
          "base_uri": "https://localhost:8080/",
          "height": 171
        }
      },
      "source": [
        "A ** B"
      ],
      "execution_count": 33,
      "outputs": [
        {
          "output_type": "error",
          "ename": "ValueError",
          "evalue": "ignored",
          "traceback": [
            "\u001b[0;31m---------------------------------------------------------------------------\u001b[0m",
            "\u001b[0;31mValueError\u001b[0m                                Traceback (most recent call last)",
            "\u001b[0;32m<ipython-input-33-fd54e7d7ae48>\u001b[0m in \u001b[0;36m<module>\u001b[0;34m\u001b[0m\n\u001b[0;32m----> 1\u001b[0;31m \u001b[0mA\u001b[0m \u001b[0;34m**\u001b[0m \u001b[0mB\u001b[0m\u001b[0;34m\u001b[0m\u001b[0;34m\u001b[0m\u001b[0m\n\u001b[0m",
            "\u001b[0;31mValueError\u001b[0m: Integers to negative integer powers are not allowed."
          ]
        }
      ]
    },
    {
      "cell_type": "markdown",
      "metadata": {
        "id": "CVlK8dwYtcrv"
      },
      "source": [
        "Oops! You can't raise integers to negative power, since the result won't be an integer. Let's use a math function from NumPy, `abs` which takes absolute values element-wise to do this:"
      ]
    },
    {
      "cell_type": "code",
      "metadata": {
        "id": "wAzzKPsXtval",
        "outputId": "1f90b7d2-f905-4dc4-edac-cece77f9a655",
        "colab": {
          "base_uri": "https://localhost:8080/"
        }
      },
      "source": [
        "A ** np.abs(B)"
      ],
      "execution_count": 45,
      "outputs": [
        {
          "output_type": "execute_result",
          "data": {
            "text/plain": [
              "array([[  1,   4, 125],\n",
              "       [  1,   2, 343],\n",
              "       [  0,   0,  27]])"
            ]
          },
          "metadata": {},
          "execution_count": 45
        }
      ]
    },
    {
      "cell_type": "markdown",
      "metadata": {
        "id": "mdmIFgFbt0-x"
      },
      "source": [
        "We have use many other math functions element-wise as well:"
      ]
    },
    {
      "cell_type": "code",
      "metadata": {
        "id": "EkMdTZYRt6Zd",
        "outputId": "1f540fc2-a482-4344-def5-4073099d4401",
        "colab": {
          "base_uri": "https://localhost:8080/"
        }
      },
      "source": [
        "np.sin(A)"
      ],
      "execution_count": 34,
      "outputs": [
        {
          "output_type": "execute_result",
          "data": {
            "text/plain": [
              "array([[ 0.84147098, -0.7568025 , -0.95892427],\n",
              "       [-0.84147098,  0.90929743,  0.6569866 ],\n",
              "       [ 0.        ,  0.        ,  0.14112001]])"
            ]
          },
          "metadata": {},
          "execution_count": 34
        }
      ]
    },
    {
      "cell_type": "code",
      "metadata": {
        "id": "F3yWtIADt7my",
        "outputId": "6d00c168-b011-451f-b4eb-e4e711defd91",
        "colab": {
          "base_uri": "https://localhost:8080/"
        }
      },
      "source": [
        "np.exp(A)"
      ],
      "execution_count": 35,
      "outputs": [
        {
          "output_type": "execute_result",
          "data": {
            "text/plain": [
              "array([[2.71828183e+00, 5.45981500e+01, 1.48413159e+02],\n",
              "       [3.67879441e-01, 7.38905610e+00, 1.09663316e+03],\n",
              "       [1.00000000e+00, 1.00000000e+00, 2.00855369e+01]])"
            ]
          },
          "metadata": {},
          "execution_count": 35
        }
      ]
    },
    {
      "cell_type": "code",
      "metadata": {
        "id": "vxRmdrpvt89g",
        "outputId": "c31bd8fe-e99b-422a-eaeb-963519b24366",
        "colab": {
          "base_uri": "https://localhost:8080/"
        }
      },
      "source": [
        "np.log(A)"
      ],
      "execution_count": 36,
      "outputs": [
        {
          "output_type": "stream",
          "name": "stderr",
          "text": [
            "<ipython-input-36-903912ff445a>:1: RuntimeWarning: divide by zero encountered in log\n",
            "  np.log(A)\n",
            "<ipython-input-36-903912ff445a>:1: RuntimeWarning: invalid value encountered in log\n",
            "  np.log(A)\n"
          ]
        },
        {
          "output_type": "execute_result",
          "data": {
            "text/plain": [
              "array([[0.        , 1.38629436, 1.60943791],\n",
              "       [       nan, 0.69314718, 1.94591015],\n",
              "       [      -inf,       -inf, 1.09861229]])"
            ]
          },
          "metadata": {},
          "execution_count": 36
        }
      ]
    },
    {
      "cell_type": "markdown",
      "metadata": {
        "id": "F8M4qupeuCwi"
      },
      "source": [
        "You can't take logarithms of negative values neither. Also note the `nan` and `inf`. `nan` in NumPy signifies *n*ot-*a*-*n*umber and is used when the result is not a number or invalid, like what we have here. `inf` means *inf*inity, so `-inf` is $-\\infty$:"
      ]
    },
    {
      "cell_type": "code",
      "metadata": {
        "id": "QQPGwPxCu1fI",
        "outputId": "7bfeceae-fb5e-4d03-ef8d-b6d6278417ad",
        "colab": {
          "base_uri": "https://localhost:8080/"
        }
      },
      "source": [
        "np.nan"
      ],
      "execution_count": 37,
      "outputs": [
        {
          "output_type": "execute_result",
          "data": {
            "text/plain": [
              "nan"
            ]
          },
          "metadata": {},
          "execution_count": 37
        }
      ]
    },
    {
      "cell_type": "code",
      "metadata": {
        "id": "pdS89jDzu_HG",
        "outputId": "b95b64aa-64b6-452a-e77e-97aeac24de03",
        "colab": {
          "base_uri": "https://localhost:8080/"
        }
      },
      "source": [
        "np.inf"
      ],
      "execution_count": 38,
      "outputs": [
        {
          "output_type": "execute_result",
          "data": {
            "text/plain": [
              "inf"
            ]
          },
          "metadata": {},
          "execution_count": 38
        }
      ]
    },
    {
      "cell_type": "markdown",
      "metadata": {
        "id": "2ODykuXJvQAA"
      },
      "source": [
        "Sometimes the results of division by zero can be displayed as `inf` and `-inf`."
      ]
    },
    {
      "cell_type": "markdown",
      "metadata": {
        "id": "feiSBxqcv6NV"
      },
      "source": [
        "Also, if you use comparison operators, they will be element-wise:"
      ]
    },
    {
      "cell_type": "code",
      "metadata": {
        "id": "xyZS5rLzwNax",
        "outputId": "3937e679-f2d2-4835-d737-424f98070710",
        "colab": {
          "base_uri": "https://localhost:8080/"
        }
      },
      "source": [
        "A == B"
      ],
      "execution_count": 44,
      "outputs": [
        {
          "output_type": "execute_result",
          "data": {
            "text/plain": [
              "array([[False, False, False],\n",
              "       [False, False, False],\n",
              "       [False, False,  True]])"
            ]
          },
          "metadata": {},
          "execution_count": 44
        }
      ]
    },
    {
      "cell_type": "code",
      "metadata": {
        "id": "7MMArSBdwO9k",
        "outputId": "7c8a1596-6b7e-4047-a8ec-63d74fe1ad30",
        "colab": {
          "base_uri": "https://localhost:8080/"
        }
      },
      "source": [
        "A < B"
      ],
      "execution_count": 43,
      "outputs": [
        {
          "output_type": "execute_result",
          "data": {
            "text/plain": [
              "array([[ True, False, False],\n",
              "       [ True, False, False],\n",
              "       [ True, False, False]])"
            ]
          },
          "metadata": {},
          "execution_count": 43
        }
      ]
    },
    {
      "cell_type": "markdown",
      "metadata": {
        "id": "g9nuvSJLwkhq"
      },
      "source": [
        "However, if you want to indicate if the comparisons are `True` for any or all elememnts use `any` or `all` from NumPy:"
      ]
    },
    {
      "cell_type": "code",
      "metadata": {
        "id": "5jleVPi3w1Cj",
        "outputId": "bb89fdd7-a7da-40f5-e08b-3a878b18290e",
        "colab": {
          "base_uri": "https://localhost:8080/"
        }
      },
      "source": [
        "np.all(A == B)"
      ],
      "execution_count": 49,
      "outputs": [
        {
          "output_type": "execute_result",
          "data": {
            "text/plain": [
              "False"
            ]
          },
          "metadata": {},
          "execution_count": 49
        }
      ]
    },
    {
      "cell_type": "code",
      "metadata": {
        "id": "ak-AVaHuw47U",
        "outputId": "4bf42f7f-4937-440f-a7bc-248104c8c919",
        "colab": {
          "base_uri": "https://localhost:8080/"
        }
      },
      "source": [
        "np.all(A == A)"
      ],
      "execution_count": 50,
      "outputs": [
        {
          "output_type": "execute_result",
          "data": {
            "text/plain": [
              "True"
            ]
          },
          "metadata": {},
          "execution_count": 50
        }
      ]
    },
    {
      "cell_type": "code",
      "metadata": {
        "id": "sNHXfNnbw7w2",
        "outputId": "0b2e6bae-1957-46a7-b7a8-c95b518aff7b",
        "colab": {
          "base_uri": "https://localhost:8080/"
        }
      },
      "source": [
        "np.any(A > 5)"
      ],
      "execution_count": 51,
      "outputs": [
        {
          "output_type": "execute_result",
          "data": {
            "text/plain": [
              "True"
            ]
          },
          "metadata": {},
          "execution_count": 51
        }
      ]
    },
    {
      "cell_type": "markdown",
      "metadata": {
        "id": "oz14IpTHweg_"
      },
      "source": [
        "You can also use NumPy versions of logical operators:"
      ]
    },
    {
      "cell_type": "code",
      "metadata": {
        "id": "JwDj5T9YwRvA",
        "outputId": "dc10c1fa-ae70-4a1d-ac35-a7668ed6ade4",
        "colab": {
          "base_uri": "https://localhost:8080/"
        }
      },
      "source": [
        "np.logical_and(A < B, A > 1)"
      ],
      "execution_count": 52,
      "outputs": [
        {
          "output_type": "execute_result",
          "data": {
            "text/plain": [
              "array([[False, False, False],\n",
              "       [False,  True, False],\n",
              "       [False, False,  True]])"
            ]
          },
          "metadata": {},
          "execution_count": 52
        }
      ]
    },
    {
      "cell_type": "code",
      "metadata": {
        "id": "UeE38_5lxFr3",
        "outputId": "8cab174a-d358-44d7-c797-1a350014f17a",
        "colab": {
          "base_uri": "https://localhost:8080/"
        }
      },
      "source": [
        "np.logical_or(A > 1, B < 10)"
      ],
      "execution_count": 53,
      "outputs": [
        {
          "output_type": "execute_result",
          "data": {
            "text/plain": [
              "array([[False,  True,  True],\n",
              "       [ True,  True,  True],\n",
              "       [ True,  True,  True]])"
            ]
          },
          "metadata": {},
          "execution_count": 53
        }
      ]
    },
    {
      "cell_type": "code",
      "metadata": {
        "id": "c08zr_YrxFpG",
        "outputId": "bf1be95e-ae7b-4f30-e77d-d1868facfcbd",
        "colab": {
          "base_uri": "https://localhost:8080/"
        }
      },
      "source": [
        "np.logical_not(A == B)"
      ],
      "execution_count": 54,
      "outputs": [
        {
          "output_type": "execute_result",
          "data": {
            "text/plain": [
              "array([[ True,  True,  True],\n",
              "       [ True,  True,  True],\n",
              "       [ True,  True,  True]])"
            ]
          },
          "metadata": {},
          "execution_count": 54
        }
      ]
    },
    {
      "cell_type": "markdown",
      "metadata": {
        "id": "YA5YCJKmz6lT"
      },
      "source": [
        "Or use the \"bitwise\" operators to accomplish the same things:"
      ]
    },
    {
      "cell_type": "code",
      "metadata": {
        "id": "2ASYsGCXz1lH",
        "outputId": "19380577-7f6f-4a71-8819-3a9a93fd15cc",
        "colab": {
          "base_uri": "https://localhost:8080/"
        }
      },
      "source": [
        "(A < B) & (A > 1)"
      ],
      "execution_count": 55,
      "outputs": [
        {
          "output_type": "execute_result",
          "data": {
            "text/plain": [
              "array([[False, False, False],\n",
              "       [False,  True, False],\n",
              "       [False, False,  True]])"
            ]
          },
          "metadata": {},
          "execution_count": 55
        }
      ]
    },
    {
      "cell_type": "code",
      "metadata": {
        "id": "uNp-jNsb0FTx",
        "outputId": "3a0df36e-f4f8-4558-a5f8-658e9edfea74",
        "colab": {
          "base_uri": "https://localhost:8080/"
        }
      },
      "source": [
        "(A > 1) | (B < 10)"
      ],
      "execution_count": 56,
      "outputs": [
        {
          "output_type": "execute_result",
          "data": {
            "text/plain": [
              "array([[False,  True,  True],\n",
              "       [ True,  True,  True],\n",
              "       [ True,  True,  True]])"
            ]
          },
          "metadata": {},
          "execution_count": 56
        }
      ]
    },
    {
      "cell_type": "code",
      "metadata": {
        "id": "zs6xwtl90LCh",
        "outputId": "570b65a7-31d6-48c1-9648-d3dc9a09a07a",
        "colab": {
          "base_uri": "https://localhost:8080/"
        }
      },
      "source": [
        "~(A == B)"
      ],
      "execution_count": 57,
      "outputs": [
        {
          "output_type": "execute_result",
          "data": {
            "text/plain": [
              "array([[ True,  True,  True],\n",
              "       [ True,  True,  True],\n",
              "       [ True,  True,  True]])"
            ]
          },
          "metadata": {},
          "execution_count": 57
        }
      ]
    },
    {
      "cell_type": "markdown",
      "metadata": {
        "id": "QsVJauPw6CRp"
      },
      "source": [
        "Transpose of a matrix:"
      ]
    },
    {
      "cell_type": "code",
      "source": [
        "display(A)"
      ],
      "metadata": {
        "id": "tY9sYjuQNUd7",
        "outputId": "5e622ad2-6f32-4eeb-c710-2880efab60b7",
        "colab": {
          "base_uri": "https://localhost:8080/",
          "height": 72
        }
      },
      "execution_count": 59,
      "outputs": [
        {
          "output_type": "display_data",
          "data": {
            "text/plain": [
              "array([[ 1,  4,  5],\n",
              "       [-1,  2,  7],\n",
              "       [ 0,  0,  3]])"
            ]
          },
          "metadata": {}
        }
      ]
    },
    {
      "cell_type": "code",
      "metadata": {
        "id": "L0KUrtCB6Gm1",
        "outputId": "808fced5-f4a0-464f-9456-2ebfdabcabfa",
        "colab": {
          "base_uri": "https://localhost:8080/"
        }
      },
      "source": [
        "A.transpose()"
      ],
      "execution_count": 58,
      "outputs": [
        {
          "output_type": "execute_result",
          "data": {
            "text/plain": [
              "array([[ 1, -1,  0],\n",
              "       [ 4,  2,  0],\n",
              "       [ 5,  7,  3]])"
            ]
          },
          "metadata": {},
          "execution_count": 58
        }
      ]
    },
    {
      "cell_type": "markdown",
      "metadata": {
        "id": "xJdjwJxz6JJ5"
      },
      "source": [
        "...or simply:"
      ]
    },
    {
      "cell_type": "code",
      "metadata": {
        "id": "4I1Jpeqf6LDe",
        "outputId": "d1a7c845-3d32-4300-fd2c-916a79f1bd17",
        "colab": {
          "base_uri": "https://localhost:8080/"
        }
      },
      "source": [
        "A.T"
      ],
      "execution_count": 60,
      "outputs": [
        {
          "output_type": "execute_result",
          "data": {
            "text/plain": [
              "array([[ 1, -1,  0],\n",
              "       [ 4,  2,  0],\n",
              "       [ 5,  7,  3]])"
            ]
          },
          "metadata": {},
          "execution_count": 60
        }
      ]
    },
    {
      "cell_type": "markdown",
      "metadata": {
        "id": "22lmapGi75QK"
      },
      "source": [
        "Creating a matrix of all zeros:"
      ]
    },
    {
      "cell_type": "code",
      "metadata": {
        "id": "vR0Yu5BL779g",
        "outputId": "72b7da29-e794-4f7a-d3f1-c1d3e9d8b337",
        "colab": {
          "base_uri": "https://localhost:8080/"
        }
      },
      "source": [
        "np.zeros((2, 5))"
      ],
      "execution_count": 61,
      "outputs": [
        {
          "output_type": "execute_result",
          "data": {
            "text/plain": [
              "array([[0., 0., 0., 0., 0.],\n",
              "       [0., 0., 0., 0., 0.]])"
            ]
          },
          "metadata": {},
          "execution_count": 61
        }
      ]
    },
    {
      "cell_type": "markdown",
      "metadata": {
        "id": "4-qwjIjT8F8V"
      },
      "source": [
        "Note the double parentheses. The first ones are for function call, obviously. However, remeber that when you got the `shape` of an array the sizes where given in a tuple. That's how you specify an array size in NumPy and that's why you have these inner parentheses in here: to specify a size, you use a tuple."
      ]
    },
    {
      "cell_type": "markdown",
      "metadata": {
        "id": "gd8UHnIB7_Hv"
      },
      "source": [
        "Now, a Matrix of all ones:"
      ]
    },
    {
      "cell_type": "code",
      "metadata": {
        "id": "jARXu8i28CKf",
        "outputId": "eca958c1-b2c3-4099-c601-e509419148cc",
        "colab": {
          "base_uri": "https://localhost:8080/"
        }
      },
      "source": [
        "np.ones((3, 4))"
      ],
      "execution_count": 62,
      "outputs": [
        {
          "output_type": "execute_result",
          "data": {
            "text/plain": [
              "array([[1., 1., 1., 1.],\n",
              "       [1., 1., 1., 1.],\n",
              "       [1., 1., 1., 1.]])"
            ]
          },
          "metadata": {},
          "execution_count": 62
        }
      ]
    },
    {
      "cell_type": "markdown",
      "metadata": {
        "id": "SPT4LoZ28oaF"
      },
      "source": [
        "Which is different from an *identity matrix*:"
      ]
    },
    {
      "cell_type": "code",
      "metadata": {
        "id": "AmriBxAA8xMT",
        "outputId": "bafb88f9-ddce-4443-ab0e-ba8b60279214",
        "colab": {
          "base_uri": "https://localhost:8080/"
        }
      },
      "source": [
        "np.eye(4)"
      ],
      "execution_count": 63,
      "outputs": [
        {
          "output_type": "execute_result",
          "data": {
            "text/plain": [
              "array([[1., 0., 0., 0.],\n",
              "       [0., 1., 0., 0.],\n",
              "       [0., 0., 1., 0.],\n",
              "       [0., 0., 0., 1.]])"
            ]
          },
          "metadata": {},
          "execution_count": 63
        }
      ]
    },
    {
      "cell_type": "code",
      "source": [
        "np.eye(8)\n"
      ],
      "metadata": {
        "id": "g0BdqJhLNq6l",
        "outputId": "fe4f6895-c880-423b-81ee-7d29f3aa4edf",
        "colab": {
          "base_uri": "https://localhost:8080/"
        }
      },
      "execution_count": 64,
      "outputs": [
        {
          "output_type": "execute_result",
          "data": {
            "text/plain": [
              "array([[1., 0., 0., 0., 0., 0., 0., 0.],\n",
              "       [0., 1., 0., 0., 0., 0., 0., 0.],\n",
              "       [0., 0., 1., 0., 0., 0., 0., 0.],\n",
              "       [0., 0., 0., 1., 0., 0., 0., 0.],\n",
              "       [0., 0., 0., 0., 1., 0., 0., 0.],\n",
              "       [0., 0., 0., 0., 0., 1., 0., 0.],\n",
              "       [0., 0., 0., 0., 0., 0., 1., 0.],\n",
              "       [0., 0., 0., 0., 0., 0., 0., 1.]])"
            ]
          },
          "metadata": {},
          "execution_count": 64
        }
      ]
    },
    {
      "cell_type": "markdown",
      "metadata": {
        "id": "ZfXDIaSF8vF7"
      },
      "source": [
        "Which is a square matrix, and thus, you can specify the length of one side rather than giving the full size and you don't see the inner parentheses."
      ]
    },
    {
      "cell_type": "markdown",
      "metadata": {
        "id": "qo2wx3NLl5k7"
      },
      "source": [
        "You can laso generate a range of numbers in a vector with `arange` from NumPy:"
      ]
    },
    {
      "cell_type": "code",
      "metadata": {
        "id": "UKr3uXHlmDUi"
      },
      "source": [
        "np.arange(0.0, 10.0, 0.1)"
      ],
      "execution_count": null,
      "outputs": []
    },
    {
      "cell_type": "markdown",
      "metadata": {
        "id": "IOhRdZvGoCHB"
      },
      "source": [
        "The parameters are like Python's `range` function."
      ]
    },
    {
      "cell_type": "markdown",
      "metadata": {
        "id": "JCY3v02coVmo"
      },
      "source": [
        "You can alternatively use `linspace`:"
      ]
    },
    {
      "cell_type": "code",
      "metadata": {
        "id": "TOZUJGJPocjf"
      },
      "source": [
        "np.linspace(0.0, 10.0, 101)"
      ],
      "execution_count": null,
      "outputs": []
    },
    {
      "cell_type": "markdown",
      "metadata": {
        "id": "JV77Amrcoll6"
      },
      "source": [
        "Here, the third parameter is the number of points rather than step size. Also, note that the end parameter is inclusive here.\n",
        "\n",
        "You can generate points with logarithmic spacing as well:"
      ]
    },
    {
      "cell_type": "code",
      "metadata": {
        "id": "YsOhE-9ao0vm"
      },
      "source": [
        "np.logspace(0.0, 20.0, 21)"
      ],
      "execution_count": null,
      "outputs": []
    },
    {
      "cell_type": "markdown",
      "metadata": {
        "id": "Ua2mYULXqCD-"
      },
      "source": [
        "For many functions that generate arrays, you can specify the data type of array created using parameter named `dtype`:"
      ]
    },
    {
      "cell_type": "code",
      "metadata": {
        "id": "oQIv2nQQqLcw"
      },
      "source": [
        "np.logspace(0.0, 20.0, 21, dtype='uint64')"
      ],
      "execution_count": null,
      "outputs": []
    },
    {
      "cell_type": "markdown",
      "metadata": {
        "id": "Z-AyY4XOqYXt"
      },
      "source": [
        "The data type `'uint64` means an *u*nsigned *int*eger which is *64* bits long. The last value is obviously wrong but that is because a 64-bit integer cannot contain $1\\times 10^{20} = 10^{20}$. If we were to use default `'int'` kind (which is synonymous to `'int64'`, many times), the last two values will likely be wrong:"
      ]
    },
    {
      "cell_type": "code",
      "metadata": {
        "id": "mWXMk3q7rCqd"
      },
      "source": [
        "np.logspace(0.0, 20.0, 21, dtype='int')"
      ],
      "execution_count": null,
      "outputs": []
    },
    {
      "cell_type": "markdown",
      "metadata": {
        "id": "vQ0E0b3X5TdM"
      },
      "source": [
        "You can create random array by using the submodule `random` from NumPy. \n",
        "\n",
        "Function `random` creates random numbers uniformly distributed between 0 and 1:"
      ]
    },
    {
      "cell_type": "code",
      "metadata": {
        "id": "cPZRNO3e5iNv"
      },
      "source": [
        "E = np.random.random((3, 4))"
      ],
      "execution_count": null,
      "outputs": []
    },
    {
      "cell_type": "code",
      "metadata": {
        "id": "sNOAyngc5oqV"
      },
      "source": [
        "E"
      ],
      "execution_count": null,
      "outputs": []
    },
    {
      "cell_type": "markdown",
      "metadata": {
        "id": "W74BDfxL5rEC"
      },
      "source": [
        "You can define arrays of random integers:"
      ]
    },
    {
      "cell_type": "code",
      "metadata": {
        "id": "WTd2fhab5qQp"
      },
      "source": [
        "I = np.random.randint(0, 10, (5, 5))"
      ],
      "execution_count": null,
      "outputs": []
    },
    {
      "cell_type": "code",
      "metadata": {
        "id": "WNGqTVT9ZYaZ"
      },
      "source": [
        "I"
      ],
      "execution_count": null,
      "outputs": []
    },
    {
      "cell_type": "markdown",
      "metadata": {
        "id": "al0ws9SwZqZS"
      },
      "source": [
        "As well as randomly choose a number of elements from an $1$-D array or list:"
      ]
    },
    {
      "cell_type": "code",
      "metadata": {
        "id": "kfvIikfWZwhR"
      },
      "source": [
        "vr = np.arange(0, 100)\n",
        "display(vr)\n",
        "\n",
        "np.random.choice(vr, 3)"
      ],
      "execution_count": null,
      "outputs": []
    },
    {
      "cell_type": "markdown",
      "metadata": {
        "id": "s2pdaJxsaOVh"
      },
      "source": [
        "You can also generate random variables from a number of distributions. For example, you can generate numbers from a univariate Gaussian (normal) distribution:"
      ]
    },
    {
      "cell_type": "code",
      "metadata": {
        "id": "xhQZo9fdaZD5"
      },
      "source": [
        "np.random.normal(0.0, 1.0, (2, 4))"
      ],
      "execution_count": null,
      "outputs": []
    },
    {
      "cell_type": "markdown",
      "metadata": {
        "id": "aD9N3_VWagm8"
      },
      "source": [
        "Here, the first parameter is the first moment of the distribution (its mean) and the second parameter is the second moment (variance) and the third argument is the array size."
      ]
    },
    {
      "cell_type": "markdown",
      "metadata": {
        "id": "SpMGWbq3at4v"
      },
      "source": [
        "Computer generated-random numbers are actually not really random but rather pseudo-random. You can control this with specifying a seed. If the same seed is used, the same sequence of number are generated:"
      ]
    },
    {
      "cell_type": "code",
      "metadata": {
        "id": "G5KVjiwnbAD4"
      },
      "source": [
        "np.random.seed(100)\n",
        "display(np.random.random((2, 2)))\n",
        "display(np.random.random((2, 2)))"
      ],
      "execution_count": null,
      "outputs": []
    },
    {
      "cell_type": "markdown",
      "metadata": {
        "id": "LP7q8SRtbH3x"
      },
      "source": [
        "Compare that to:"
      ]
    },
    {
      "cell_type": "code",
      "metadata": {
        "id": "Gf6VZD2cbKDG"
      },
      "source": [
        "np.random.seed(100)\n",
        "display(np.random.random((2, 2)))\n",
        "np.random.seed(100)\n",
        "display(np.random.random((2, 2)))"
      ],
      "execution_count": null,
      "outputs": []
    },
    {
      "cell_type": "markdown",
      "metadata": {
        "id": "fZSQ-s3fbQh3"
      },
      "source": [
        "Now that we are talking about distributions, let's talk about some statistical methods on NumPy arrays."
      ]
    },
    {
      "cell_type": "markdown",
      "metadata": {
        "id": "DTQXpV92baNI"
      },
      "source": [
        "You can take the empirical mean of numbers in an array with the `mean` method:"
      ]
    },
    {
      "cell_type": "code",
      "metadata": {
        "id": "l3-U4_6hcDaY"
      },
      "source": [
        "print(w)\n",
        "print(w.mean())"
      ],
      "execution_count": null,
      "outputs": []
    },
    {
      "cell_type": "markdown",
      "metadata": {
        "id": "qM-Rrwf1cH0H"
      },
      "source": [
        "If you used that on a matrix (or a higher-dimensional array), it would give you the mean of every element:"
      ]
    },
    {
      "cell_type": "code",
      "metadata": {
        "id": "G1ER6l3vcQ8O"
      },
      "source": [
        "print(A)\n",
        "print(A.mean())"
      ],
      "execution_count": null,
      "outputs": []
    },
    {
      "cell_type": "markdown",
      "metadata": {
        "id": "zN0jRYYucYU-"
      },
      "source": [
        "...unless, you specified which axis do you want to take the mean on (remember, in Python, indices, including indices of axes start from 0): "
      ]
    },
    {
      "cell_type": "code",
      "metadata": {
        "id": "wIxswliacms2"
      },
      "source": [
        "print(A.mean(axis=0))"
      ],
      "execution_count": null,
      "outputs": []
    },
    {
      "cell_type": "code",
      "metadata": {
        "id": "R5Dg7jb7cs3V"
      },
      "source": [
        "print(A_h)\n",
        "print(A_h.mean(axis=2))"
      ],
      "execution_count": null,
      "outputs": []
    },
    {
      "cell_type": "markdown",
      "metadata": {
        "id": "VdpAfmK7dL4F"
      },
      "source": [
        "You can take the variance using `var`:"
      ]
    },
    {
      "cell_type": "code",
      "metadata": {
        "id": "Dkn-2-ANdVMy"
      },
      "source": [
        "A.var()"
      ],
      "execution_count": null,
      "outputs": []
    },
    {
      "cell_type": "markdown",
      "metadata": {
        "id": "4J5nZilgdXdx"
      },
      "source": [
        "Same rules apply. If you want to take variances along a specific axis, specify that. If you want to get a covariance matrix, use `cov`:"
      ]
    },
    {
      "cell_type": "code",
      "metadata": {
        "id": "DT4IKNjndjL1"
      },
      "source": [
        "G = np.random.randint(0, 100, (10, 4))\n",
        "display(G)\n",
        "\n",
        "np.cov(G)"
      ],
      "execution_count": null,
      "outputs": []
    },
    {
      "cell_type": "markdown",
      "metadata": {
        "id": "X19jyb2Qd6AE"
      },
      "source": [
        "Be careful about how we used `cov` function of NumPy and not a method of the `ndarray` array `G`."
      ]
    },
    {
      "cell_type": "markdown",
      "metadata": {
        "id": "3C4dWn47eNGO"
      },
      "source": [
        "You can take medians:"
      ]
    },
    {
      "cell_type": "code",
      "metadata": {
        "id": "CZKSHbYxeXFS"
      },
      "source": [
        "np.median(w)"
      ],
      "execution_count": null,
      "outputs": []
    },
    {
      "cell_type": "markdown",
      "metadata": {
        "id": "ZszFGD3CeO4q"
      },
      "source": [
        "...correletaion coefficients:"
      ]
    },
    {
      "cell_type": "code",
      "metadata": {
        "id": "PN_XTlrDejN6"
      },
      "source": [
        "np.corrcoef(G)"
      ],
      "execution_count": null,
      "outputs": []
    },
    {
      "cell_type": "markdown",
      "metadata": {
        "id": "F3jJCvx_ev_b"
      },
      "source": [
        "...standard deviations:"
      ]
    },
    {
      "cell_type": "code",
      "metadata": {
        "id": "a0acOUyBez0U"
      },
      "source": [
        "w.std()"
      ],
      "execution_count": null,
      "outputs": []
    },
    {
      "cell_type": "markdown",
      "metadata": {
        "id": "UvE-oE0BeqJw"
      },
      "source": [
        "...and many other things."
      ]
    },
    {
      "cell_type": "markdown",
      "metadata": {
        "id": "AbGnX-Q8e3cq"
      },
      "source": [
        "Apart from statistical functions, you can calculate other aggregate functions."
      ]
    },
    {
      "cell_type": "markdown",
      "metadata": {
        "id": "cDmuIQyne9kO"
      },
      "source": [
        "For example summations:"
      ]
    },
    {
      "cell_type": "code",
      "metadata": {
        "id": "JxDlrqY_fDCK"
      },
      "source": [
        "w.sum()"
      ],
      "execution_count": null,
      "outputs": []
    },
    {
      "cell_type": "code",
      "metadata": {
        "id": "slQEGF5DfEmm"
      },
      "source": [
        "A.sum()"
      ],
      "execution_count": null,
      "outputs": []
    },
    {
      "cell_type": "code",
      "metadata": {
        "id": "ZlOWPjPRfGOH"
      },
      "source": [
        "A.sum(axis=1)"
      ],
      "execution_count": null,
      "outputs": []
    },
    {
      "cell_type": "markdown",
      "metadata": {
        "id": "MWOEoyh-fJl_"
      },
      "source": [
        "Minimums, maximums, cumulative sums, ...."
      ]
    },
    {
      "cell_type": "code",
      "metadata": {
        "id": "w4VV4QMDfPk1"
      },
      "source": [
        "w.min()"
      ],
      "execution_count": null,
      "outputs": []
    },
    {
      "cell_type": "code",
      "metadata": {
        "id": "IKSW5cSAfQ-5"
      },
      "source": [
        "w.max()"
      ],
      "execution_count": null,
      "outputs": []
    },
    {
      "cell_type": "code",
      "metadata": {
        "id": "aryoY1szfSI7"
      },
      "source": [
        "w.cumsum()"
      ],
      "execution_count": null,
      "outputs": []
    },
    {
      "cell_type": "code",
      "metadata": {
        "id": "vOjJaOsnfTwZ"
      },
      "source": [
        "A.min()"
      ],
      "execution_count": null,
      "outputs": []
    },
    {
      "cell_type": "code",
      "metadata": {
        "id": "-Lo4B7mHfVpU"
      },
      "source": [
        "A.max()"
      ],
      "execution_count": null,
      "outputs": []
    },
    {
      "cell_type": "code",
      "metadata": {
        "id": "M4m_U5KOfWvq"
      },
      "source": [
        "A.cumsum()"
      ],
      "execution_count": null,
      "outputs": []
    },
    {
      "cell_type": "code",
      "metadata": {
        "id": "DgbErhuzfYTC"
      },
      "source": [
        "A.max(axis=1)"
      ],
      "execution_count": null,
      "outputs": []
    },
    {
      "cell_type": "code",
      "metadata": {
        "id": "-JSPFfeXfZwI"
      },
      "source": [
        "A.max(axis=0)"
      ],
      "execution_count": null,
      "outputs": []
    },
    {
      "cell_type": "code",
      "metadata": {
        "id": "Wz6mDNBofdIk"
      },
      "source": [
        "A.cumsum(axis=0)"
      ],
      "execution_count": null,
      "outputs": []
    },
    {
      "cell_type": "markdown",
      "metadata": {
        "id": "N7kA5ABWfCTb"
      },
      "source": [
        "You can also take `argmin`s and `argmax`s (like $\\arg\\min$ and $\\arg\\max$ operations in math). These will tell you not the minimum or maximum values but the index at which they happen:"
      ]
    },
    {
      "cell_type": "code",
      "metadata": {
        "id": "spnBzbcIfut8"
      },
      "source": [
        "w.argmin()"
      ],
      "execution_count": null,
      "outputs": []
    },
    {
      "cell_type": "code",
      "metadata": {
        "id": "wrZFXIUPf3Zy"
      },
      "source": [
        "w.argmax()"
      ],
      "execution_count": null,
      "outputs": []
    },
    {
      "cell_type": "code",
      "metadata": {
        "id": "LnX3FL6Of4b9"
      },
      "source": [
        "A.argmin()"
      ],
      "execution_count": null,
      "outputs": []
    },
    {
      "cell_type": "code",
      "metadata": {
        "id": "QaxBqCxCf5iw"
      },
      "source": [
        "A.argmax()"
      ],
      "execution_count": null,
      "outputs": []
    },
    {
      "cell_type": "code",
      "metadata": {
        "id": "JmnGCH1gf6qR"
      },
      "source": [
        "A.argmin(axis=1)"
      ],
      "execution_count": null,
      "outputs": []
    },
    {
      "cell_type": "code",
      "metadata": {
        "id": "b2D6T0-5f8o2"
      },
      "source": [
        "A.argmax(axis=0)"
      ],
      "execution_count": null,
      "outputs": []
    },
    {
      "cell_type": "markdown",
      "metadata": {
        "id": "m3-s-1p9gFLl"
      },
      "source": [
        "If you check `w`, the minimum actually is happening at index `2` and the maximum happens indeed at index `0`. If there were multiple minima or maxima, the first index where they happen is returned.\n",
        "\n",
        "With `A`, you can see instead of two indices, a single index is returned. This corresponds with the index where minimum or maximum happens if you were to flatten the array into a $1$-D array. We will see more about flattening and translating this index into a $n$-D index shortly."
      ]
    },
    {
      "cell_type": "code",
      "metadata": {
        "id": "q26GbEcUg2Na"
      },
      "source": [
        "display(w)\n",
        "display(A)"
      ],
      "execution_count": null,
      "outputs": []
    },
    {
      "cell_type": "markdown",
      "metadata": {
        "id": "Zbo_kCQyhOZZ"
      },
      "source": [
        "Finally you can sort arrays as well:"
      ]
    },
    {
      "cell_type": "code",
      "metadata": {
        "id": "prthaKVThRBX"
      },
      "source": [
        "w_s = w\n",
        "display(w_s)\n",
        "w_s.sort()\n",
        "display(w_s)"
      ],
      "execution_count": null,
      "outputs": []
    },
    {
      "cell_type": "code",
      "metadata": {
        "id": "7LaC4uQuhl_D"
      },
      "source": [
        "A_s = A\n",
        "display(A_s)\n",
        "A_s.sort()\n",
        "display(A_s)"
      ],
      "execution_count": null,
      "outputs": []
    },
    {
      "cell_type": "code",
      "metadata": {
        "id": "L_WdkWL0hl7q"
      },
      "source": [
        "A_s = A\n",
        "display(A_s)\n",
        "A_s.sort(axis=0)\n",
        "display(A_s)"
      ],
      "execution_count": null,
      "outputs": []
    },
    {
      "cell_type": "markdown",
      "metadata": {
        "id": "8VJynK-hh8EM"
      },
      "source": [
        "Notice, the same **in-place** effect, where the changes are made to the original data structure is true for NumPy sort as well.\n",
        "\n",
        "Also, with `sort` if you don't specify an axis, the entire array is not sorted. Rather than that, a value of `axis=-1` (the last axis) is taken by default for the `axis` parameter."
      ]
    },
    {
      "cell_type": "code",
      "metadata": {
        "id": "odkl0m98ieVR"
      },
      "source": [
        "A_s = A\n",
        "display(A_s)\n",
        "A_s.sort(axis=1)\n",
        "display(A_s)"
      ],
      "execution_count": null,
      "outputs": []
    },
    {
      "cell_type": "markdown",
      "metadata": {
        "id": "wtU-MNj_imby"
      },
      "source": [
        "The values were already sorted along axis with index of `1`, so nothing changed.\n",
        "\n",
        "FYI, we also do have `argsort`."
      ]
    },
    {
      "cell_type": "markdown",
      "metadata": {
        "id": "Gp4Gr-4qhKz9"
      },
      "source": [
        "Now back to some basic array attributes:"
      ]
    },
    {
      "cell_type": "markdown",
      "metadata": {
        "id": "u8rxb5KgprKC"
      },
      "source": [
        "You can find the number of dimensions of an array with `ndim` attribute:"
      ]
    },
    {
      "cell_type": "code",
      "metadata": {
        "id": "l5uwEvelpXHw"
      },
      "source": [
        "A.ndim"
      ],
      "execution_count": null,
      "outputs": []
    },
    {
      "cell_type": "markdown",
      "metadata": {
        "id": "w49OyTr4p0C9"
      },
      "source": [
        "The number of elements can be found with `size`:"
      ]
    },
    {
      "cell_type": "code",
      "metadata": {
        "id": "Uc6fv1Ujp4qI"
      },
      "source": [
        "A.size"
      ],
      "execution_count": null,
      "outputs": []
    },
    {
      "cell_type": "markdown",
      "metadata": {
        "id": "xAvJlCM0rM1t"
      },
      "source": [
        "You can find the data type of an array with `dtype`:"
      ]
    },
    {
      "cell_type": "code",
      "metadata": {
        "id": "T3-LUBGHrRq1"
      },
      "source": [
        "A.dtype"
      ],
      "execution_count": null,
      "outputs": []
    },
    {
      "cell_type": "markdown",
      "metadata": {
        "id": "inX7unITrb34"
      },
      "source": [
        "Here you see `dtype('int64')` is not a string but rather an object of type `dtype`. If you just want the name, you can use the `name` attribute of `dtype` objects:"
      ]
    },
    {
      "cell_type": "code",
      "metadata": {
        "id": "JXuvq3XorulL"
      },
      "source": [
        "A.dtype.name"
      ],
      "execution_count": null,
      "outputs": []
    },
    {
      "cell_type": "markdown",
      "metadata": {
        "id": "QmHVl3ayrvnl"
      },
      "source": [
        "You can cast an array into another `dtype` using the method `astype`: "
      ]
    },
    {
      "cell_type": "code",
      "metadata": {
        "id": "O_1v768Vr4WT"
      },
      "source": [
        "F = E.astype('float')\n",
        "display(F)"
      ],
      "execution_count": null,
      "outputs": []
    },
    {
      "cell_type": "code",
      "metadata": {
        "id": "yspWGVqHr7uk"
      },
      "source": [
        "F.dtype"
      ],
      "execution_count": null,
      "outputs": []
    },
    {
      "cell_type": "markdown",
      "metadata": {
        "id": "fB3IRqe44w_8"
      },
      "source": [
        "You can flatten arrays:"
      ]
    },
    {
      "cell_type": "code",
      "metadata": {
        "id": "GpUfQr0z41gh"
      },
      "source": [
        "F.ravel()"
      ],
      "execution_count": null,
      "outputs": []
    },
    {
      "cell_type": "markdown",
      "metadata": {
        "id": "wa01gIW24-5A"
      },
      "source": [
        "...or reshape them:"
      ]
    },
    {
      "cell_type": "code",
      "metadata": {
        "id": "WnA-Cj7G5Aih"
      },
      "source": [
        "F.reshape((2, 6))"
      ],
      "execution_count": null,
      "outputs": []
    },
    {
      "cell_type": "markdown",
      "metadata": {
        "id": "7HN_Oc7ujrUD"
      },
      "source": [
        "If you have an index from a falttened array, you can translate that index into an $n$-D index with `unravel_index`:"
      ]
    },
    {
      "cell_type": "code",
      "metadata": {
        "id": "7T0qLfhRj1KC"
      },
      "source": [
        "ind1 = F.argmin()\n",
        "print(ind1)\n",
        "\n",
        "print(np.unravel_index(ind1, (3, 4)))\n",
        "print(np.unravel_index(ind1, (2, 6)))"
      ],
      "execution_count": null,
      "outputs": []
    },
    {
      "cell_type": "markdown",
      "metadata": {
        "id": "9-tFdg4skjOD"
      },
      "source": [
        "You can use a Boolean array of the same size to index another array:"
      ]
    },
    {
      "cell_type": "code",
      "metadata": {
        "id": "8J5VEqeukqm8"
      },
      "source": [
        "F > 0.2"
      ],
      "execution_count": null,
      "outputs": []
    },
    {
      "cell_type": "code",
      "metadata": {
        "id": "dVx_AX_ektnl"
      },
      "source": [
        "F[F > 0.2]"
      ],
      "execution_count": null,
      "outputs": []
    },
    {
      "cell_type": "markdown",
      "metadata": {
        "id": "vNqyDGxqk_9X"
      },
      "source": [
        "You can also $n$ other other arrays or lists of same sizes to index an $n$-D array and you will get an array with the shape of the index arrays. The values will be the values corresponding to the indices in the index array for each dimension:"
      ]
    },
    {
      "cell_type": "code",
      "metadata": {
        "id": "CnnO_UkSlXPx"
      },
      "source": [
        "ind_arr1 = np.array([0, 2, 2])\n",
        "ind_arr2 = np.array([1, 0, -1])\n",
        "\n",
        "F[ind_arr1, ind_arr2]"
      ],
      "execution_count": null,
      "outputs": []
    },
    {
      "cell_type": "markdown",
      "metadata": {
        "id": "ldie3TY2mD2Q"
      },
      "source": [
        "You can find the indices where a condition happens (i.e., where a Boolean array is `True`) using `where`:"
      ]
    },
    {
      "cell_type": "code",
      "metadata": {
        "id": "zMtxKVLnmRw8"
      },
      "source": [
        "np.where(F > 0.2)"
      ],
      "execution_count": null,
      "outputs": []
    },
    {
      "cell_type": "markdown",
      "metadata": {
        "id": "cTsMDx_0mVgK"
      },
      "source": [
        "As you can see, you will get a tuple of arrays containing indices for each dimension."
      ]
    },
    {
      "cell_type": "markdown",
      "metadata": {
        "id": "OPfindc2mycu"
      },
      "source": [
        "You can copy array by using the copy method:"
      ]
    },
    {
      "cell_type": "code",
      "metadata": {
        "id": "FHxy-LChnAJS"
      },
      "source": [
        "H = G.copy()\n",
        "print(\"H is a copy of G.\")\n",
        "print(\"H:\\n\", H)\n",
        "print(\"G:\\n\", G)\n",
        "H[1, 1] = 0\n",
        "print(\"\\nChange applied to H[1, 1].\\n\")\n",
        "print(\"H:\\n\", H)\n",
        "print(\"G:\\n\", G)"
      ],
      "execution_count": null,
      "outputs": []
    },
    {
      "cell_type": "markdown",
      "metadata": {
        "id": "zcqBwK7-oApv"
      },
      "source": [
        "You can create a pure reference, called a **view** in Python by:"
      ]
    },
    {
      "cell_type": "code",
      "metadata": {
        "id": "mXYssWLWoB2w"
      },
      "source": [
        "H = G.view()\n",
        "print(\"H is a view of G.\")\n",
        "print(\"H:\\n\", H)\n",
        "print(\"G:\\n\", G)\n",
        "H[1, 1] = 0\n",
        "print(\"\\nChange applied to H[1, 1].\\n\")\n",
        "print(\"H:\\n\", H)\n",
        "print(\"G:\\n\", G)"
      ],
      "execution_count": null,
      "outputs": []
    },
    {
      "cell_type": "markdown",
      "metadata": {
        "id": "YzLFKhu8qJry"
      },
      "source": [
        "Simple assignment creates a view and not a copy:"
      ]
    },
    {
      "cell_type": "code",
      "metadata": {
        "id": "Y8GeOOeUqPe2"
      },
      "source": [
        "H = G\n",
        "print(\"H = G is executed (simple assignment).\")\n",
        "print(\"H:\\n\", H)\n",
        "print(\"G:\\n\", G)\n",
        "H[1, 1] = 1\n",
        "print(\"\\nChange applied to H[1, 1].\\n\")\n",
        "print(\"H:\\n\", H)\n",
        "print(\"G:\\n\", G)"
      ],
      "execution_count": null,
      "outputs": []
    },
    {
      "cell_type": "markdown",
      "metadata": {
        "id": "D--cpg8uGlfp"
      },
      "source": [
        "### Even more NumPy"
      ]
    },
    {
      "cell_type": "markdown",
      "metadata": {
        "id": "sxSMiO_YGseJ"
      },
      "source": [
        "There are many more methods to do array manipulation:"
      ]
    },
    {
      "cell_type": "markdown",
      "metadata": {
        "id": "BGthPtqdHkBv"
      },
      "source": [
        "- You can add dimensions to an array with `np.newaxis` or `None` as indices:"
      ]
    },
    {
      "cell_type": "code",
      "metadata": {
        "id": "lwtU6je7HYut"
      },
      "source": [
        "A2 = A[:, :, np.newaxis]\n",
        "A2"
      ],
      "execution_count": null,
      "outputs": []
    },
    {
      "cell_type": "code",
      "metadata": {
        "id": "v1rKkZXnIsHe"
      },
      "source": [
        "A[:, :, None]"
      ],
      "execution_count": null,
      "outputs": []
    },
    {
      "cell_type": "code",
      "metadata": {
        "id": "VkxTjrIAIkcJ"
      },
      "source": [
        "A2.shape"
      ],
      "execution_count": null,
      "outputs": []
    },
    {
      "cell_type": "markdown",
      "metadata": {
        "id": "D5pl_lF9I8mK"
      },
      "source": [
        "- You can compact arrays by using `squeeze`:"
      ]
    },
    {
      "cell_type": "code",
      "metadata": {
        "id": "WSGrUFuUJONA"
      },
      "source": [
        "A2.squeeze()"
      ],
      "execution_count": null,
      "outputs": []
    },
    {
      "cell_type": "code",
      "metadata": {
        "id": "gACZKxx2Jae6"
      },
      "source": [
        "A2.squeeze().shape"
      ],
      "execution_count": null,
      "outputs": []
    },
    {
      "cell_type": "markdown",
      "metadata": {
        "id": "eqrR1-ctJl_9"
      },
      "source": [
        "- You can use `tile` to tile an array to create a bigger array:\n"
      ]
    },
    {
      "cell_type": "code",
      "metadata": {
        "id": "hBXkntXGJqeM"
      },
      "source": [
        "np.tile(A, (2, 3))"
      ],
      "execution_count": null,
      "outputs": []
    },
    {
      "cell_type": "markdown",
      "metadata": {
        "id": "qESdRIzgJlKP"
      },
      "source": [
        "You can of course combine `tile` and adding new axes with `np.newaxis` or `None` indexing to extend arrays into new dimensions:"
      ]
    },
    {
      "cell_type": "code",
      "metadata": {
        "id": "_3f8m5XUJ-FB"
      },
      "source": [
        "np.tile(A[:, :, None], (1, 1, 3))"
      ],
      "execution_count": null,
      "outputs": []
    },
    {
      "cell_type": "markdown",
      "metadata": {
        "id": "m9s44f5aKDWs"
      },
      "source": [
        "- You can use `resize` method of an `ndarray` array to resize an array:"
      ]
    },
    {
      "cell_type": "code",
      "metadata": {
        "id": "B92mXTG1KYrA"
      },
      "source": [
        "E"
      ],
      "execution_count": null,
      "outputs": []
    },
    {
      "cell_type": "code",
      "metadata": {
        "id": "RKIFqjE4K66P"
      },
      "source": [
        "E.resize((6,2))\n",
        "E"
      ],
      "execution_count": null,
      "outputs": []
    },
    {
      "cell_type": "code",
      "metadata": {
        "id": "dKTywRXTLCQe"
      },
      "source": [
        "E.resize((3, 4))\n",
        "E"
      ],
      "execution_count": null,
      "outputs": []
    },
    {
      "cell_type": "markdown",
      "metadata": {
        "id": "j2l5lY7NLHZJ"
      },
      "source": [
        "- You can use `append` function of NumPy to append values:"
      ]
    },
    {
      "cell_type": "code",
      "metadata": {
        "id": "O8t7hFXpLNuE"
      },
      "source": [
        "np.append(A, [[1, 2, 3]])"
      ],
      "execution_count": null,
      "outputs": []
    },
    {
      "cell_type": "code",
      "metadata": {
        "id": "TodHGi_xLmYX"
      },
      "source": [
        "np.append(A, [[1], [2], [3]], axis=1)"
      ],
      "execution_count": null,
      "outputs": []
    },
    {
      "cell_type": "markdown",
      "metadata": {
        "id": "5PSuikUrMBow"
      },
      "source": [
        "- You can use `insert` function of NumPy to insert values:"
      ]
    },
    {
      "cell_type": "code",
      "metadata": {
        "id": "Mbs7Ho5UMDuj"
      },
      "source": [
        "np.insert(A, 1, 5)"
      ],
      "execution_count": null,
      "outputs": []
    },
    {
      "cell_type": "code",
      "metadata": {
        "id": "BuiUXe_pNTdv"
      },
      "source": [
        "np.insert(A, 1, [1, 2, 3])"
      ],
      "execution_count": null,
      "outputs": []
    },
    {
      "cell_type": "code",
      "metadata": {
        "id": "WOP5BGoqNXjX"
      },
      "source": [
        "np.insert(A, 1, 5, axis=1)"
      ],
      "execution_count": null,
      "outputs": []
    },
    {
      "cell_type": "code",
      "metadata": {
        "id": "O6Gwwfjd5sxS"
      },
      "source": [
        "np.insert(A, 1, [[7], [8], [9]], axis=1)"
      ],
      "execution_count": null,
      "outputs": []
    },
    {
      "cell_type": "code",
      "metadata": {
        "id": "-cjGDwms6jLZ"
      },
      "source": [
        "np.insert(A, 1, [7, 8, 9], axis=1)"
      ],
      "execution_count": null,
      "outputs": []
    },
    {
      "cell_type": "code",
      "metadata": {
        "id": "1geSpsl5Nct-"
      },
      "source": [
        "np.insert(A, [1], [[7], [8], [9]], axis=1)"
      ],
      "execution_count": null,
      "outputs": []
    },
    {
      "cell_type": "code",
      "metadata": {
        "id": "dB91MrnF6QzA"
      },
      "source": [
        "np.insert(A, [1, 2], [[7], [8], [9]], axis=1)"
      ],
      "execution_count": null,
      "outputs": []
    },
    {
      "cell_type": "markdown",
      "metadata": {
        "id": "PKQANbnQ6rkJ"
      },
      "source": [
        "- You can use `delete` function of NumPy to delete values:"
      ]
    },
    {
      "cell_type": "code",
      "metadata": {
        "id": "hKKPgX6J6x-m"
      },
      "source": [
        "np.delete(A, 1)"
      ],
      "execution_count": null,
      "outputs": []
    },
    {
      "cell_type": "code",
      "metadata": {
        "id": "4diqhMlL7Fp6"
      },
      "source": [
        "np.delete(A, 1, axis=0)"
      ],
      "execution_count": null,
      "outputs": []
    },
    {
      "cell_type": "code",
      "metadata": {
        "id": "8P683_aY7I2C"
      },
      "source": [
        "np.delete(A, [1, 2], axis=1)"
      ],
      "execution_count": null,
      "outputs": []
    },
    {
      "cell_type": "code",
      "metadata": {
        "id": "MCFO28937QZ-"
      },
      "source": [
        "mask = (A.sum(axis=0) < 1.0)\n",
        "display(mask)\n",
        "np.delete(A, mask, axis=0)"
      ],
      "execution_count": null,
      "outputs": []
    },
    {
      "cell_type": "markdown",
      "metadata": {
        "id": "8lEPtfy473Tb"
      },
      "source": [
        "- You can use `concatenate` function of NumPy to concatenate arrays together:"
      ]
    },
    {
      "cell_type": "code",
      "metadata": {
        "id": "j2ySBq8M76TA"
      },
      "source": [
        "np.concatenate((A, B))"
      ],
      "execution_count": null,
      "outputs": []
    },
    {
      "cell_type": "code",
      "metadata": {
        "id": "p73zSF0r8LIo"
      },
      "source": [
        "np.concatenate((A, B), axis=0)"
      ],
      "execution_count": null,
      "outputs": []
    },
    {
      "cell_type": "code",
      "metadata": {
        "id": "53Acl5BK8PBz"
      },
      "source": [
        "np.concatenate((A, B), axis=1)"
      ],
      "execution_count": null,
      "outputs": []
    },
    {
      "cell_type": "code",
      "metadata": {
        "id": "6zsKRILY8Tjj"
      },
      "source": [
        "np.concatenate((A, B), axis=None)"
      ],
      "execution_count": null,
      "outputs": []
    },
    {
      "cell_type": "markdown",
      "metadata": {
        "id": "j0q1Mz1H8S4v"
      },
      "source": [
        "- You can use `vstack` function of NumPy (or its alias `np.r_[`...`]`, note the indexing operator instead of function call parentheses) to vertically stack arrays:"
      ]
    },
    {
      "cell_type": "code",
      "metadata": {
        "id": "DYNz5cIs8cbh"
      },
      "source": [
        "np.vstack((A, B))"
      ],
      "execution_count": null,
      "outputs": []
    },
    {
      "cell_type": "code",
      "metadata": {
        "id": "_wwHBBPr8khS"
      },
      "source": [
        "np.r_[A, B]"
      ],
      "execution_count": null,
      "outputs": []
    },
    {
      "cell_type": "markdown",
      "metadata": {
        "id": "QCAigzF38nQL"
      },
      "source": [
        "- You can use `hstack` function of NumPy (or its alias `np.c_[`...`]`, note the indexing operator instead of function call parentheses) to stack arrays in columns to horizontally stack arrays :"
      ]
    },
    {
      "cell_type": "code",
      "metadata": {
        "id": "DDPetDl78rnq"
      },
      "source": [
        "np.hstack((A, B))"
      ],
      "execution_count": null,
      "outputs": []
    },
    {
      "cell_type": "code",
      "metadata": {
        "id": "HVtuIw3b8yqu"
      },
      "source": [
        "np.c_[A, B]"
      ],
      "execution_count": null,
      "outputs": []
    },
    {
      "cell_type": "markdown",
      "metadata": {
        "id": "lG9i2W0282u8"
      },
      "source": [
        "- You can use `column_stack` function of NumPy on 1D arrays (which is like doing vertical stacking and then transposing):"
      ]
    },
    {
      "cell_type": "code",
      "metadata": {
        "id": "jE-H63FA9D4s"
      },
      "source": [
        "np.column_stack(([1, 2, 3], [4, 5, 6]))"
      ],
      "execution_count": null,
      "outputs": []
    },
    {
      "cell_type": "code",
      "metadata": {
        "id": "za78OSsJ-FvE"
      },
      "source": [
        "np.vstack(([1, 2, 3], [4, 5, 6])).T"
      ],
      "execution_count": null,
      "outputs": []
    },
    {
      "cell_type": "markdown",
      "metadata": {
        "id": "t-YfP3Hi9D_m"
      },
      "source": [
        "- You can use `split` function of NumPy to split an array at an index:"
      ]
    },
    {
      "cell_type": "code",
      "metadata": {
        "id": "ZJX7GTu99F5M"
      },
      "source": [
        "np.split(A, 3, axis=1)"
      ],
      "execution_count": null,
      "outputs": []
    },
    {
      "cell_type": "code",
      "metadata": {
        "id": "cPYWUY0I_HyF"
      },
      "source": [
        "np.split(A, [1], axis=1)"
      ],
      "execution_count": null,
      "outputs": []
    },
    {
      "cell_type": "code",
      "metadata": {
        "id": "mGAFHEIH_O2q"
      },
      "source": [
        "np.split(A, [1, 2], axis=0)"
      ],
      "execution_count": null,
      "outputs": []
    },
    {
      "cell_type": "markdown",
      "metadata": {
        "id": "RwGOunXpqmFT"
      },
      "source": [
        "...and many, many more operations!\n"
      ]
    },
    {
      "cell_type": "markdown",
      "metadata": {
        "id": "75rhj6Hdsh06"
      },
      "source": [
        "One last thing before we move on to another package is that you can use the `lionalg` sub-package of NumPy to do more complicated linear algebra operations. The two most useful examples would be using `linalg.inv` to calculate the inverse of a (positive-definite square) matrix:"
      ]
    },
    {
      "cell_type": "code",
      "metadata": {
        "id": "zg9dR0ies7W5"
      },
      "source": [
        "np.linalg.inv(A)"
      ],
      "execution_count": null,
      "outputs": []
    },
    {
      "cell_type": "markdown",
      "metadata": {
        "id": "VFPb2s2btFCJ"
      },
      "source": [
        "`A` was singular and could not be inverted."
      ]
    },
    {
      "cell_type": "code",
      "metadata": {
        "id": "Gu6Id4MOtKLe"
      },
      "source": [
        "np.linalg.inv(B)"
      ],
      "execution_count": null,
      "outputs": []
    },
    {
      "cell_type": "markdown",
      "metadata": {
        "id": "tOd_PtjJtNWn"
      },
      "source": [
        "The other example is to solve a system of linear equations, $\\mathbf{Ax}=\\mathbf{b}$ (where $\\mathbf{A}$ are the coefficients given in the matrix form, $\\mathbf{x}$ are the variables and $\\mathbf{b}$ is a vector of values), using `linalg.solve`:"
      ]
    },
    {
      "cell_type": "code",
      "metadata": {
        "id": "sgPzPgfftve8"
      },
      "source": [
        "np.linalg.solve(B, w)"
      ],
      "execution_count": null,
      "outputs": []
    },
    {
      "cell_type": "markdown",
      "metadata": {
        "id": "zFJhY_kDt_T1"
      },
      "source": [
        "(For those interested, theoretically, this is returning $\\mathbf{x}=\\mathbf{A}^\\dagger\\mathbf{b}$ where $\\mathbf{A}^\\dagger$ is the Moore–Penrose pseudoinverse of $\\mathbf{A}$:\n",
        "$$\\mathbf{A}^\\dagger=\\left(\\mathbf{A}^\\top\\mathbf{A}\\right)^{-1}\\mathbf{A}^\\top\\,,$$\n",
        "but it is doing that in a more numerically-stable way rather than taking a direct inverse.)"
      ]
    },
    {
      "cell_type": "markdown",
      "metadata": {
        "id": "zRKWmYZvwE4o"
      },
      "source": [
        "##pandas"
      ]
    },
    {
      "cell_type": "markdown",
      "metadata": {
        "id": "UXrlFXl1wHXn"
      },
      "source": [
        "[pandas](https://pandas.pydata.org/) is a data analysis package for Python, kind of like a spreadsheet document or a databased where you can have tables, manipulate and display them. Since, data is the central object of machine learning, we will be using this package a lot as well."
      ]
    },
    {
      "cell_type": "code",
      "metadata": {
        "id": "toxINvWhxbZp"
      },
      "source": [
        "import pandas as pd"
      ],
      "execution_count": null,
      "outputs": []
    },
    {
      "cell_type": "markdown",
      "metadata": {
        "id": "wM8APaQ3xdhk"
      },
      "source": [
        "Pandas has two main data structures."
      ]
    },
    {
      "cell_type": "markdown",
      "metadata": {
        "id": "TQbo1ucCxi-u"
      },
      "source": [
        "Series:"
      ]
    },
    {
      "cell_type": "code",
      "metadata": {
        "id": "e5C-KIwZxmTy"
      },
      "source": [
        "ds = pd.Series(w, index=[\"a\", \"b\", \"c\"])"
      ],
      "execution_count": null,
      "outputs": []
    },
    {
      "cell_type": "markdown",
      "metadata": {
        "id": "SjtZ7es4x5rO"
      },
      "source": [
        "`Series`is a $1$-D series of data. Each element in the series can have an index name. "
      ]
    },
    {
      "cell_type": "code",
      "metadata": {
        "id": "pb64ZHpJxw1C"
      },
      "source": [
        "ds"
      ],
      "execution_count": null,
      "outputs": []
    },
    {
      "cell_type": "markdown",
      "metadata": {
        "id": "1ZaPtt-Y3rNz"
      },
      "source": [
        "We can get one element of a series by using its index:"
      ]
    },
    {
      "cell_type": "code",
      "metadata": {
        "id": "9gwzvTWz33R1"
      },
      "source": [
        "ds[\"b\"]"
      ],
      "execution_count": null,
      "outputs": []
    },
    {
      "cell_type": "markdown",
      "metadata": {
        "id": "owwWQgx44JLM"
      },
      "source": [
        "...or index number:"
      ]
    },
    {
      "cell_type": "code",
      "metadata": {
        "id": "R7cMLMYN4Fup"
      },
      "source": [
        "ds[0]"
      ],
      "execution_count": null,
      "outputs": []
    },
    {
      "cell_type": "markdown",
      "metadata": {
        "id": "YIFQAsUPyMDz"
      },
      "source": [
        "The second kind is a `DataFrame`, which is like a table:"
      ]
    },
    {
      "cell_type": "code",
      "metadata": {
        "id": "X1qC8xlSzPov"
      },
      "source": [
        "df = pd.DataFrame(A, columns=[\"feature_1\", \"feature_2\", \"feature_3\"])"
      ],
      "execution_count": null,
      "outputs": []
    },
    {
      "cell_type": "markdown",
      "metadata": {
        "id": "ThsY9rGW2q91"
      },
      "source": [
        "We could also have had index (row names) in addition to column names, but we usually don't need those unless datapoints have a meaningful identifier."
      ]
    },
    {
      "cell_type": "code",
      "metadata": {
        "id": "SrAuFESXzrZI"
      },
      "source": [
        "print(df)"
      ],
      "execution_count": null,
      "outputs": []
    },
    {
      "cell_type": "code",
      "metadata": {
        "id": "3-QmpHnVzvhv"
      },
      "source": [
        "display(df)"
      ],
      "execution_count": null,
      "outputs": []
    },
    {
      "cell_type": "markdown",
      "metadata": {
        "id": "3SZs2fQmzy_9"
      },
      "source": [
        "Notice how `display` shows a nicer output because it is defined in Jupyter and hence uses Jupyter's graphical inteface."
      ]
    },
    {
      "cell_type": "code",
      "metadata": {
        "id": "Xx5WLa3wzxyQ"
      },
      "source": [
        "df"
      ],
      "execution_count": null,
      "outputs": []
    },
    {
      "cell_type": "markdown",
      "metadata": {
        "id": "UftKIxn10CKU"
      },
      "source": [
        "Also notice how inspecting a variable is actually doing `display`."
      ]
    },
    {
      "cell_type": "markdown",
      "metadata": {
        "id": "vDpiadME0Qsw"
      },
      "source": [
        "pandas is built on top of NumPy so many functions of NumPy are available here as well and they have the same name."
      ]
    },
    {
      "cell_type": "markdown",
      "metadata": {
        "id": "NLc_jIJRsVHk"
      },
      "source": [
        "Before jumping to the next topic, let' see other ways you can create pandas `Series` and `DataFrame`s:"
      ]
    },
    {
      "cell_type": "markdown",
      "metadata": {
        "id": "fTaq_GA0upDb"
      },
      "source": [
        "Creating a DataFrame using dictionaries:"
      ]
    },
    {
      "cell_type": "code",
      "metadata": {
        "id": "zd8RYmTosk6e"
      },
      "source": [
        "pd.DataFrame({'Feature_1': [-1, 0, 1], 'feature_2': [0, 2, 4], 'feature_3': [3, 5, 6]})"
      ],
      "execution_count": null,
      "outputs": []
    },
    {
      "cell_type": "markdown",
      "metadata": {
        "id": "ZYxQFC1ruw3M"
      },
      "source": [
        "BTW, like in Series, DataFrame indices can have names instead of numbers as well:\n"
      ]
    },
    {
      "cell_type": "code",
      "metadata": {
        "id": "1qOe-EtStDVT"
      },
      "source": [
        "pd.DataFrame({'Feature_1': [-1, 0, 1], 'feature_2': [0, 2, 4], 'feature_3': [3, 5, 6]}, \n",
        "             index=['A', 'B', 'C'])"
      ],
      "execution_count": null,
      "outputs": []
    },
    {
      "cell_type": "markdown",
      "metadata": {
        "id": "hA7t_dDLu1D9"
      },
      "source": [
        "Finally, `Series` have only one column and that name can be pased with the name argument:\n"
      ]
    },
    {
      "cell_type": "code",
      "metadata": {
        "id": "hgaC6JTTtpR1"
      },
      "source": [
        "pd.Series([1, 2, 3], name='w', index=['a', 'b', 'c'])"
      ],
      "execution_count": null,
      "outputs": []
    },
    {
      "cell_type": "markdown",
      "metadata": {
        "id": "sYBZ8iwo0fOz"
      },
      "source": [
        "Now, let's read a DataFrame object from a CSV (*C*omma *S*eparated *V*alues, perhaps the most famous data storage format) file on the web (you can also read CSV files from your won computer or Google storage in case of Colab). We will read the famous [Iris dataset](https://en.wikipedia.org/wiki/Iris_flower_data_set) from the datasets in the [*Machine Learning Repository*](https://archive.ics.uci.edu/ml/datasets.php) hosted by [UCI](https://uci.edu/): University of California, Irvine ([dataset link](https://archive.ics.uci.edu/ml/datasets/Iris)):"
      ]
    },
    {
      "cell_type": "code",
      "metadata": {
        "id": "ga5U7bza0q6_"
      },
      "source": [
        "df = pd.read_csv(\"https://archive.ics.uci.edu/ml/machine-learning-databases/iris/iris.data\", names=[\"sepal_length\", \"sepal_width\", \"petal_length\", \"petal_width\"], header=None, index_col=False)"
      ],
      "execution_count": null,
      "outputs": []
    },
    {
      "cell_type": "markdown",
      "metadata": {
        "id": "g_zKwGca3TRF"
      },
      "source": [
        "The `names` parameter is the name of columns and by indicating `header=None`, we tell pandas not to use the first row as a list of column names (to be accurate, this was not neccessary because if column names are explicitly provided, the first row is automatically not used as header). Also, by indicating `index_col=False` we tell pandas, we don't want to use the first column as the index column (if we wanted to use a specific column as the index column, we could have used the index of that column the value for `index_col`)."
      ]
    },
    {
      "cell_type": "code",
      "metadata": {
        "id": "AbmN7SiN3Mqy"
      },
      "source": [
        "df"
      ],
      "execution_count": null,
      "outputs": []
    },
    {
      "cell_type": "markdown",
      "metadata": {
        "id": "kHSvv1LPvv0A"
      },
      "source": [
        "You can use `head` and `tail` to look at the beginning and end of data:\n",
        "\n"
      ]
    },
    {
      "cell_type": "code",
      "metadata": {
        "id": "DKboDNRpv6jt"
      },
      "source": [
        "df.head()"
      ],
      "execution_count": null,
      "outputs": []
    },
    {
      "cell_type": "code",
      "metadata": {
        "id": "X3TbVcyxv716"
      },
      "source": [
        "df.tail()"
      ],
      "execution_count": null,
      "outputs": []
    },
    {
      "cell_type": "markdown",
      "metadata": {
        "id": "sNvF3IK6wBDK"
      },
      "source": [
        "Five rows are shown by default and you can override that:"
      ]
    },
    {
      "cell_type": "code",
      "metadata": {
        "id": "2Y3ikzMwv9Re"
      },
      "source": [
        "df.head(10)"
      ],
      "execution_count": null,
      "outputs": []
    },
    {
      "cell_type": "markdown",
      "metadata": {
        "id": "pmifa4k64Nn_"
      },
      "source": [
        "We can use indexing operator with index numbers to select some rows of a DataFrame:"
      ]
    },
    {
      "cell_type": "code",
      "metadata": {
        "id": "viUQprgW4SRI"
      },
      "source": [
        "df[1:]"
      ],
      "execution_count": null,
      "outputs": []
    },
    {
      "cell_type": "markdown",
      "metadata": {
        "id": "nVsbfOZp4vyr"
      },
      "source": [
        "We can use indexing operator with column names to select a column of a DataFrame and get a Series:"
      ]
    },
    {
      "cell_type": "code",
      "metadata": {
        "id": "ygXcospm4aCK"
      },
      "source": [
        "df[\"sepal_length\"]"
      ],
      "execution_count": null,
      "outputs": []
    },
    {
      "cell_type": "markdown",
      "metadata": {
        "id": "Ac6nXrJpwULr"
      },
      "source": [
        "You can also use the `.` operator to get a column if the name of the column does not include spaces:"
      ]
    },
    {
      "cell_type": "code",
      "metadata": {
        "id": "nybtQT0Zweoe"
      },
      "source": [
        "df.sepal_length"
      ],
      "execution_count": null,
      "outputs": []
    },
    {
      "cell_type": "markdown",
      "metadata": {
        "id": "HIT-GcOL45Ef"
      },
      "source": [
        "We can use a list (or array) of column names to select a sub-DataFrame from those columns:"
      ]
    },
    {
      "cell_type": "code",
      "metadata": {
        "id": "zGnJa08c4__o"
      },
      "source": [
        "df[[\"sepal_length\", \"sepal_width\"]]"
      ],
      "execution_count": null,
      "outputs": []
    },
    {
      "cell_type": "markdown",
      "metadata": {
        "id": "qzg0JgkgwuLd"
      },
      "source": [
        "You can use two indexing operators to get a sub-DataFrame:"
      ]
    },
    {
      "cell_type": "code",
      "metadata": {
        "id": "gjg5poNAwtiM"
      },
      "source": [
        "df[[\"sepal_length\", \"sepal_width\"]][2:4]"
      ],
      "execution_count": null,
      "outputs": []
    },
    {
      "cell_type": "markdown",
      "metadata": {
        "id": "_ljNnFys5NAR"
      },
      "source": [
        "You also (better) can select a sub-DataFrame by row and column index numbers using the `iloc` indexing operator:\n"
      ]
    },
    {
      "cell_type": "code",
      "metadata": {
        "id": "bl5I0IQo5Ujd"
      },
      "source": [
        "df.iloc[[0, 2, 3], [0, 3]]"
      ],
      "execution_count": null,
      "outputs": []
    },
    {
      "cell_type": "markdown",
      "metadata": {
        "id": "E9X-z_Kn1NSp"
      },
      "source": [
        "Notice the difference in ordering. Here, we gave the rows first and then columns."
      ]
    },
    {
      "cell_type": "markdown",
      "metadata": {
        "id": "nJe2qoJYGvGt"
      },
      "source": [
        "Or slice using ranges:"
      ]
    },
    {
      "cell_type": "code",
      "metadata": {
        "id": "tj_bizNcGwkG"
      },
      "source": [
        "df.iloc[0:2, 1:-1]"
      ],
      "execution_count": null,
      "outputs": []
    },
    {
      "cell_type": "markdown",
      "metadata": {
        "id": "NEEvy1FWHDCb"
      },
      "source": [
        "If you specify a single row or column index, you will get a Series back instead:"
      ]
    },
    {
      "cell_type": "code",
      "metadata": {
        "id": "CMVW-0FbHPt3"
      },
      "source": [
        "df.iloc[3, 1:]"
      ],
      "execution_count": null,
      "outputs": []
    },
    {
      "cell_type": "code",
      "metadata": {
        "id": "uZNv1OWYHK78"
      },
      "source": [
        "df.iloc[0:4, 2]"
      ],
      "execution_count": null,
      "outputs": []
    },
    {
      "cell_type": "markdown",
      "metadata": {
        "id": "SVHNTiWOHbiy"
      },
      "source": [
        "If you specify singular row and column indices instead of ranges, you will get a value back:"
      ]
    },
    {
      "cell_type": "code",
      "metadata": {
        "id": "xGkQhA1EF8-s"
      },
      "source": [
        "df.iloc[0, 2]"
      ],
      "execution_count": null,
      "outputs": []
    },
    {
      "cell_type": "markdown",
      "metadata": {
        "id": "HfzaX8mA6UYj"
      },
      "source": [
        "You can use row and column labels by using `loc` (here row, or index labels are the numbers themselves since we did not specify index names):"
      ]
    },
    {
      "cell_type": "code",
      "metadata": {
        "id": "71kg5A3d6iQ7"
      },
      "source": [
        "df.loc[[0, 1], [\"petal_width\", \"sepal_width\"]]"
      ],
      "execution_count": null,
      "outputs": []
    },
    {
      "cell_type": "markdown",
      "metadata": {
        "id": "v6HRN7g2H0Ho"
      },
      "source": [
        "The same situation applies with regards to being able to specify ranges and getting Series or values back:"
      ]
    },
    {
      "cell_type": "code",
      "metadata": {
        "id": "nxI_C4tfHwwk"
      },
      "source": [
        "df.loc[0:2, \"sepal_length\":\"petal_length\"]"
      ],
      "execution_count": null,
      "outputs": []
    },
    {
      "cell_type": "markdown",
      "metadata": {
        "id": "SW7utqcgvdlk"
      },
      "source": [
        "Note, however, how with `loc` the ranges are inclusive at the end and not exclusive."
      ]
    },
    {
      "cell_type": "code",
      "metadata": {
        "id": "wXAg1X3QH8C3"
      },
      "source": [
        "df.loc[0, :]"
      ],
      "execution_count": null,
      "outputs": []
    },
    {
      "cell_type": "code",
      "metadata": {
        "id": "TWI8uw_WH_cn"
      },
      "source": [
        "df.loc[:, \"petal_length\"]"
      ],
      "execution_count": null,
      "outputs": []
    },
    {
      "cell_type": "code",
      "metadata": {
        "id": "I_C6p3R1IFz1"
      },
      "source": [
        "df.loc[6, \"petal_width\"]"
      ],
      "execution_count": null,
      "outputs": []
    },
    {
      "cell_type": "markdown",
      "metadata": {
        "id": "Axujjdf2I1wo"
      },
      "source": [
        "You can also use Boolean Series For indexing. One way of creating a Boolean Series is using comparison on a Series.\n",
        "\n",
        "In this following example, this is a Series:"
      ]
    },
    {
      "cell_type": "code",
      "metadata": {
        "id": "DxRTmCL3JG1S"
      },
      "source": [
        "df[\"petal_length\"]"
      ],
      "execution_count": null,
      "outputs": []
    },
    {
      "cell_type": "markdown",
      "metadata": {
        "id": "EWLu4GeNJVkm"
      },
      "source": [
        "We can create a Boolean Series from it:"
      ]
    },
    {
      "cell_type": "code",
      "metadata": {
        "id": "eUGuxnhUJLoV"
      },
      "source": [
        "df[\"petal_length\"] > 0.5"
      ],
      "execution_count": null,
      "outputs": []
    },
    {
      "cell_type": "markdown",
      "metadata": {
        "id": "XO9VAop2Jabd"
      },
      "source": [
        "Then, we can use that for indexing"
      ]
    },
    {
      "cell_type": "code",
      "metadata": {
        "id": "tjov-3zCJO7X"
      },
      "source": [
        "df[df[\"petal_length\"] > 0.5]"
      ],
      "execution_count": null,
      "outputs": []
    },
    {
      "cell_type": "markdown",
      "metadata": {
        "id": "08YysdqvJnaQ"
      },
      "source": [
        "You can combine Boolean series by using `|` (or) `&` (not) and `~` (not):"
      ]
    },
    {
      "cell_type": "code",
      "metadata": {
        "id": "ssyjgWkNJydC"
      },
      "source": [
        "df[(df[\"petal_length\"] > 0.5) & (df[\"petal_length\"] < 2.0)]"
      ],
      "execution_count": null,
      "outputs": []
    },
    {
      "cell_type": "code",
      "metadata": {
        "id": "JwUbMH9PKG3l"
      },
      "source": [
        "df[(df[\"sepal_length\"] < 3.1) | (df[\"sepal_length\"] > 3.8)]"
      ],
      "execution_count": null,
      "outputs": []
    },
    {
      "cell_type": "code",
      "metadata": {
        "id": "xObiH3CRKQO5"
      },
      "source": [
        "df[~(df[\"petal_length\"] < 2.0)]"
      ],
      "execution_count": null,
      "outputs": []
    },
    {
      "cell_type": "markdown",
      "metadata": {
        "id": "5lvISFFnVDv4"
      },
      "source": [
        "You can also use `any` and `all` methods with Boolean Series and they are like their counterparts in NumPy."
      ]
    },
    {
      "cell_type": "markdown",
      "metadata": {
        "id": "gwOqMkpPKZEA"
      },
      "source": [
        "You can drop rows or columns using `drop`:"
      ]
    },
    {
      "cell_type": "code",
      "metadata": {
        "id": "BzEBzl1cKdnu"
      },
      "source": [
        "df.drop([0, 2])"
      ],
      "execution_count": null,
      "outputs": []
    },
    {
      "cell_type": "markdown",
      "metadata": {
        "id": "hXem3uMYK2ji"
      },
      "source": [
        "To drop column, you have to say `axis=1` (the default is `axis=0` which drops rows):"
      ]
    },
    {
      "cell_type": "code",
      "metadata": {
        "id": "ZRhmjgN8Kvpb"
      },
      "source": [
        "df.drop([\"sepal_length\"], axis=1)"
      ],
      "execution_count": null,
      "outputs": []
    },
    {
      "cell_type": "markdown",
      "metadata": {
        "id": "p7mfjNZ4KkXM"
      },
      "source": [
        "But that is not in-place and it does not change the DataFrame/Series:"
      ]
    },
    {
      "cell_type": "code",
      "metadata": {
        "id": "rzok5otoKrN0"
      },
      "source": [
        "df"
      ],
      "execution_count": null,
      "outputs": []
    },
    {
      "cell_type": "markdown",
      "metadata": {
        "id": "PrniSaLMLCGJ"
      },
      "source": [
        "You can sort a DataFrame by index values using `sort_index`:"
      ]
    },
    {
      "cell_type": "code",
      "metadata": {
        "id": "kFWPuxQbLFQe"
      },
      "source": [
        "df.sort_index()"
      ],
      "execution_count": null,
      "outputs": []
    },
    {
      "cell_type": "markdown",
      "metadata": {
        "id": "aUjtCpdI1sL3"
      },
      "source": [
        "BTW, you can change the index column of a DataFrame: "
      ]
    },
    {
      "cell_type": "code",
      "metadata": {
        "id": "wUoxo6UV1x99"
      },
      "source": [
        "df.set_index(\"petal_length\")"
      ],
      "execution_count": null,
      "outputs": []
    },
    {
      "cell_type": "markdown",
      "metadata": {
        "id": "8ix0AE951yPg"
      },
      "source": [
        "...and reset index numbers:"
      ]
    },
    {
      "cell_type": "code",
      "metadata": {
        "id": "gn6go3rx10-N"
      },
      "source": [
        "df.set_index(\"petal_length\").reset_index()"
      ],
      "execution_count": null,
      "outputs": []
    },
    {
      "cell_type": "markdown",
      "metadata": {
        "id": "3geMChH6LY2k"
      },
      "source": [
        "You can sort by values in a column:"
      ]
    },
    {
      "cell_type": "code",
      "metadata": {
        "id": "L3I05TemLfUO"
      },
      "source": [
        "df.sort_values(by=\"sepal_length\")"
      ],
      "execution_count": null,
      "outputs": []
    },
    {
      "cell_type": "markdown",
      "metadata": {
        "id": "PrcqiJryLlxT"
      },
      "source": [
        "These are not in-place:"
      ]
    },
    {
      "cell_type": "code",
      "metadata": {
        "id": "v6uPtTsjLn60"
      },
      "source": [
        "df"
      ],
      "execution_count": null,
      "outputs": []
    },
    {
      "cell_type": "markdown",
      "metadata": {
        "id": "-WPlQtI0Lr0i"
      },
      "source": [
        "You find the ranks of entries as well (if there are equal enrties, their average rank will be shown):"
      ]
    },
    {
      "cell_type": "code",
      "metadata": {
        "id": "QMx3mMnGLv7c"
      },
      "source": [
        "df.rank()"
      ],
      "execution_count": null,
      "outputs": []
    },
    {
      "cell_type": "markdown",
      "metadata": {
        "id": "RRdaKWFyL2vu"
      },
      "source": [
        "You can use the `describe` method to get a statistical summary of the DataFrame:"
      ]
    },
    {
      "cell_type": "code",
      "metadata": {
        "id": "5QFGwslLL7Ua"
      },
      "source": [
        "df.describe()"
      ],
      "execution_count": null,
      "outputs": []
    },
    {
      "cell_type": "markdown",
      "metadata": {
        "id": "A7PSksLiNVuV"
      },
      "source": [
        "You can also use `mean`, `median`, `mode`, `var` and `std` methods to get mean, median, mode, variance and standard deviation values (mode will return a DataFrame, others a Series):"
      ]
    },
    {
      "cell_type": "code",
      "metadata": {
        "id": "A_L0pg2-NgqU"
      },
      "source": [
        "df.mean()"
      ],
      "execution_count": null,
      "outputs": []
    },
    {
      "cell_type": "code",
      "metadata": {
        "id": "u1PKIRQlNgl4"
      },
      "source": [
        "df.median()"
      ],
      "execution_count": null,
      "outputs": []
    },
    {
      "cell_type": "code",
      "metadata": {
        "id": "7vybN8-GNqtF"
      },
      "source": [
        "df.mode()"
      ],
      "execution_count": null,
      "outputs": []
    },
    {
      "cell_type": "code",
      "metadata": {
        "id": "pvM_Yv7ONggX"
      },
      "source": [
        "df.var()"
      ],
      "execution_count": null,
      "outputs": []
    },
    {
      "cell_type": "code",
      "metadata": {
        "id": "GUaVRpmYNgbm"
      },
      "source": [
        "df.std()"
      ],
      "execution_count": null,
      "outputs": []
    },
    {
      "cell_type": "markdown",
      "metadata": {
        "id": "q1QP4n_6L_i3"
      },
      "source": [
        "You can use attributes `shape` to find dimensions, `index` to describe rows, `column` to describe columns and methods `info` to get info on DataFrame and `count` to get the number of entries which are actual numbers (are not not-a-numbers: `nan`s or `NA`s). `NA` or `nan` values are usually used to specify missing values in a dataset."
      ]
    },
    {
      "cell_type": "code",
      "metadata": {
        "id": "tFortykEMmPp"
      },
      "source": [
        "df.shape"
      ],
      "execution_count": null,
      "outputs": []
    },
    {
      "cell_type": "code",
      "metadata": {
        "id": "d36ErdZILxA0"
      },
      "source": [
        "df.index"
      ],
      "execution_count": null,
      "outputs": []
    },
    {
      "cell_type": "code",
      "metadata": {
        "id": "OcgwCtUiMxLx"
      },
      "source": [
        "df.columns"
      ],
      "execution_count": null,
      "outputs": []
    },
    {
      "cell_type": "code",
      "metadata": {
        "id": "SVVk1VAhMzTd"
      },
      "source": [
        "df.info()"
      ],
      "execution_count": null,
      "outputs": []
    },
    {
      "cell_type": "code",
      "metadata": {
        "id": "E-FGhH6WM2ZN"
      },
      "source": [
        "df.count()"
      ],
      "execution_count": null,
      "outputs": []
    },
    {
      "cell_type": "markdown",
      "metadata": {
        "id": "xmXevtM5M6HE"
      },
      "source": [
        "You can also use `sum`, `cumsum`, `min`, `max`, `idxmin` and `idxmax` to get sums, cumulative sums, minimums, maximums, index of minimums (like an $\\arg\\min$) and index of maximums (like an $\\arg\\max$), repectively:"
      ]
    },
    {
      "cell_type": "code",
      "metadata": {
        "id": "slBRJUpkOVzM"
      },
      "source": [
        "df.sum()"
      ],
      "execution_count": null,
      "outputs": []
    },
    {
      "cell_type": "code",
      "metadata": {
        "id": "RTooozjuOYDV"
      },
      "source": [
        "df.cumsum()"
      ],
      "execution_count": null,
      "outputs": []
    },
    {
      "cell_type": "code",
      "metadata": {
        "id": "trm18QBTOaKH"
      },
      "source": [
        "df.min()"
      ],
      "execution_count": null,
      "outputs": []
    },
    {
      "cell_type": "code",
      "metadata": {
        "id": "xh-16w7_Obp7"
      },
      "source": [
        "df.max()"
      ],
      "execution_count": null,
      "outputs": []
    },
    {
      "cell_type": "code",
      "metadata": {
        "id": "YwFSk9m7Od11"
      },
      "source": [
        "df.idxmin()"
      ],
      "execution_count": null,
      "outputs": []
    },
    {
      "cell_type": "code",
      "metadata": {
        "id": "JNKs3dHgOfwO"
      },
      "source": [
        "df.idxmax()"
      ],
      "execution_count": null,
      "outputs": []
    },
    {
      "cell_type": "markdown",
      "metadata": {
        "id": "3Tl4BmWuBr8b"
      },
      "source": [
        "Let's load another dataset to show some other features. We are going to use the \n",
        "[Adult dataset](https://archive.ics.uci.edu/ml/datasets/adult)), which contains census data from US for incomes. But this time, rather than reading from a web URL, let's read the file from Google drive. Make sure the file `adult.data` is located on your Google Drive. Then, click on the folder icon on the bar on the left of your notebbok and authenticate the notebook to access your Drive. Use the file browser provided and find the dataset file in your Drive you want to load. Click on the three dots to the right of file name and 'copy path'. Paste that path and assign it as the value of `file_path` (this is just a string-valued variable we defined here and the naming is not special):"
      ]
    },
    {
      "cell_type": "code",
      "metadata": {
        "id": "d6ttG7-NOjab"
      },
      "source": [
        "file_path = '/content/drive/MyDrive/Colab Notebooks/Datasets/adult.data'"
      ],
      "execution_count": null,
      "outputs": []
    },
    {
      "cell_type": "markdown",
      "metadata": {
        "id": "sKH-ZH8iOjvn"
      },
      "source": [
        "Now, we can load our data. In this dataset there is a space after commas, so not to read the data with a preceding space we have to specify the separator to be `', '` rather than the default `','`:"
      ]
    },
    {
      "cell_type": "code",
      "metadata": {
        "id": "meysZxdsIBBW"
      },
      "source": [
        "df2 = pd.read_csv(file_path, header=None, index_col=False, sep=', ')\n",
        "display(df2)"
      ],
      "execution_count": null,
      "outputs": []
    },
    {
      "cell_type": "markdown",
      "metadata": {
        "id": "z_X25fPINhW0"
      },
      "source": [
        "First things first, let's specify column names. We can do that using the `rename` method of the DataFrame:"
      ]
    },
    {
      "cell_type": "code",
      "metadata": {
        "id": "YpXd36JzR4OE"
      },
      "source": [
        "df2 = df2.rename(columns={\n",
        "                           0: 'age',\n",
        "                           1: 'workclass',\n",
        "                           2: 'fnlwgt',\n",
        "                           3: 'education',\n",
        "                           4: 'education-num',\n",
        "                           5: 'marital-status',\n",
        "                           6: 'occupation',\n",
        "                           7: 'relationship',\n",
        "                           8: 'race',\n",
        "                           9: 'sex',\n",
        "                          10: 'capital-gain',\n",
        "                          11: 'capital-loss',\n",
        "                          12: 'hours-per-week',\n",
        "                          13: 'native-country',\n",
        "                          14: 'income'\n",
        "                         })"
      ],
      "execution_count": null,
      "outputs": []
    },
    {
      "cell_type": "code",
      "metadata": {
        "id": "AUb_LdDyTFZE"
      },
      "source": [
        "df2"
      ],
      "execution_count": null,
      "outputs": []
    },
    {
      "cell_type": "markdown",
      "metadata": {
        "id": "wZm69LLyTK7I"
      },
      "source": [
        "We can also give renames the axes themselves:"
      ]
    },
    {
      "cell_type": "code",
      "metadata": {
        "id": "pN9FmQFzTSba"
      },
      "source": [
        "df2 = df2.rename_axis('attributes', axis='columns')\n",
        "df2 = df2.rename_axis('individuals', axis='rows')\n",
        "df2"
      ],
      "execution_count": null,
      "outputs": []
    },
    {
      "cell_type": "markdown",
      "metadata": {
        "id": "DYyfevc0Tw1y"
      },
      "source": [
        "We can check the data type of a column:"
      ]
    },
    {
      "cell_type": "code",
      "metadata": {
        "id": "nQbifX3gTzb1"
      },
      "source": [
        "df2['age'].dtype"
      ],
      "execution_count": null,
      "outputs": []
    },
    {
      "cell_type": "markdown",
      "metadata": {
        "id": "utmG-99DT7Zd"
      },
      "source": [
        "...or for all columns:"
      ]
    },
    {
      "cell_type": "code",
      "metadata": {
        "id": "YYihkmCdC4uV"
      },
      "source": [
        "df2.dtypes"
      ],
      "execution_count": null,
      "outputs": []
    },
    {
      "cell_type": "markdown",
      "metadata": {
        "id": "yK1nY1PUUIOv"
      },
      "source": [
        "We can check unique values of a column (which is really useful for non-numerical columns):"
      ]
    },
    {
      "cell_type": "code",
      "metadata": {
        "id": "3WXLwCW4UPUt"
      },
      "source": [
        "df2['workclass'].unique()"
      ],
      "execution_count": null,
      "outputs": []
    },
    {
      "cell_type": "markdown",
      "metadata": {
        "id": "U3CBqxrdUOnR"
      },
      "source": [
        "We can find instances where a column has value in a set of specific values:"
      ]
    },
    {
      "cell_type": "code",
      "metadata": {
        "id": "QseOegrtBypc"
      },
      "source": [
        "df2['workclass'].isin(['Federal-gov', 'State-gov', 'Local-gov'])"
      ],
      "execution_count": null,
      "outputs": []
    },
    {
      "cell_type": "markdown",
      "metadata": {
        "id": "i7ClvYuTU0n1"
      },
      "source": [
        "If we get a summary using `describe`, columns with categorical values have different stats:"
      ]
    },
    {
      "cell_type": "code",
      "metadata": {
        "id": "eJq-2883U_DA"
      },
      "source": [
        "df2['workclass'].describe()"
      ],
      "execution_count": null,
      "outputs": []
    },
    {
      "cell_type": "markdown",
      "metadata": {
        "id": "VXCk4ZL_VLGk"
      },
      "source": [
        "The standard way to display missing values is to use `NaN` values. However, in this dataset, '?' is used to represent missing values. Let's convert those to the standard way by assigning new values:"
      ]
    },
    {
      "cell_type": "code",
      "metadata": {
        "id": "wkX9AtKfV8v6"
      },
      "source": [
        "df2[df2 == '?'] = np.NaN\n",
        "display(df2)"
      ],
      "execution_count": null,
      "outputs": []
    },
    {
      "cell_type": "markdown",
      "metadata": {
        "id": "jgFWVziuWHzM"
      },
      "source": [
        "We can check where in the DataFrame we have missing values with `isnull`:"
      ]
    },
    {
      "cell_type": "code",
      "metadata": {
        "id": "SMQfjnWpWPTl"
      },
      "source": [
        "df2.isnull()"
      ],
      "execution_count": null,
      "outputs": []
    },
    {
      "cell_type": "markdown",
      "metadata": {
        "id": "4DLybNPeWWwq"
      },
      "source": [
        "...and where we don't have missing values with `notnull`:"
      ]
    },
    {
      "cell_type": "code",
      "metadata": {
        "id": "22WqETzvWcyG"
      },
      "source": [
        "df2.notnull()"
      ],
      "execution_count": null,
      "outputs": []
    },
    {
      "cell_type": "markdown",
      "metadata": {
        "id": "o7ZZsVqBWznJ"
      },
      "source": [
        "Let's find rows where we have missing values:"
      ]
    },
    {
      "cell_type": "code",
      "metadata": {
        "id": "94QwhqyrWzEB"
      },
      "source": [
        "individuals_with_missing_values = df2.isnull().any(axis=1)"
      ],
      "execution_count": null,
      "outputs": []
    },
    {
      "cell_type": "markdown",
      "metadata": {
        "id": "nJATYb22WfcY"
      },
      "source": [
        "We can replace nulls (`NaN`s) with a specific value with `fillna`:"
      ]
    },
    {
      "cell_type": "code",
      "metadata": {
        "id": "Kf3BgkfIWlf5"
      },
      "source": [
        "df2.fillna('Unknown')[individuals_with_missing_values]"
      ],
      "execution_count": null,
      "outputs": []
    },
    {
      "cell_type": "markdown",
      "metadata": {
        "id": "VUU8KZwFaI52"
      },
      "source": [
        "We can simpy add a column by assigning value into a non-existsing column name (notice how the `df2` has not changed when we replaced `NaN`s with `'Unknown'` as we did not asisgn the result back to `df2`):"
      ]
    },
    {
      "cell_type": "code",
      "metadata": {
        "id": "VaYhMQVdaVjw"
      },
      "source": [
        "df2['dummy'] = -1\n",
        "df2"
      ],
      "execution_count": null,
      "outputs": []
    },
    {
      "cell_type": "markdown",
      "metadata": {
        "id": "ct6ArDAJbae5"
      },
      "source": [
        "Let's find the number of people with missing **workclass**:"
      ]
    },
    {
      "cell_type": "code",
      "metadata": {
        "id": "2ibYKr9VY7cg"
      },
      "source": [
        "is_workclass_missing = df2['workclass'].isnull()\n",
        "is_workclass_missing"
      ],
      "execution_count": null,
      "outputs": []
    },
    {
      "cell_type": "markdown",
      "metadata": {
        "id": "d1nJkmBMa4Gk"
      },
      "source": [
        "We can convert data types like NumPy:"
      ]
    },
    {
      "cell_type": "code",
      "metadata": {
        "id": "F_4COTbPa-77"
      },
      "source": [
        "is_workclass_missing_int = is_workclass_missing.astype('int')\n",
        "is_workclass_missing_int"
      ],
      "execution_count": null,
      "outputs": []
    },
    {
      "cell_type": "markdown",
      "metadata": {
        "id": "W5zDWHzEbJms"
      },
      "source": [
        "Let's get the number of people which have missing **workclass** values:"
      ]
    },
    {
      "cell_type": "code",
      "metadata": {
        "id": "TADX4O7ga3SB"
      },
      "source": [
        "num_missing_workclasses = is_workclass_missing_int.sum()"
      ],
      "execution_count": null,
      "outputs": []
    },
    {
      "cell_type": "markdown",
      "metadata": {
        "id": "xKIoc6JQYujt"
      },
      "source": [
        "You saw how we assigned a fixed number to a number of elements. We can also assign a list of values of the same length to assign values. However, in order to be able to do that, we should use `loc` or `iloc` indexing and not the simple `[`...`]` indexing':"
      ]
    },
    {
      "cell_type": "code",
      "metadata": {
        "id": "bIusVobrZhx_"
      },
      "source": [
        "df2.loc[is_workclass_missing, 'dummy'] = np.arange(num_missing_workclasses)\n",
        "df2[is_workclass_missing]"
      ],
      "execution_count": null,
      "outputs": []
    },
    {
      "cell_type": "markdown",
      "metadata": {
        "id": "NrOZzLyMdOaU"
      },
      "source": [
        "We can use `replace` to replace values as well:"
      ]
    },
    {
      "cell_type": "code",
      "metadata": {
        "id": "tmmbWeJTdTTW"
      },
      "source": [
        "df2.loc[:, 'dummy'].replace(-1, -np.inf)"
      ],
      "execution_count": null,
      "outputs": []
    },
    {
      "cell_type": "markdown",
      "metadata": {
        "id": "d9pVwrYDd31q"
      },
      "source": [
        "We can count occurences of unique values with `value_counts`:"
      ]
    },
    {
      "cell_type": "code",
      "metadata": {
        "id": "EbkICyGOCDQY"
      },
      "source": [
        "df2['workclass'].value_counts()"
      ],
      "execution_count": null,
      "outputs": []
    },
    {
      "cell_type": "markdown",
      "metadata": {
        "id": "Slvr2mzKO3tF"
      },
      "source": [
        "There is a lot more you can do with pandas! You can do arithmetic operations. You can use `stack` and `melt` convert columns into rows, `unstack`to reverse stacking, `pivot` rows and `pivot_table`, `where` to find indices, `select` and `filter` to do more advanced selections, `dropna` to drop missing values, `to_datetimes`, `date_range` `datettime` objects, and `DateTimeIndex` to handle time and date data and `merge`, `join` and `concat` to combine data.You can use `map` and `apply` to apply functions to dataframes, Use `duplicated` and `drop_duplicates` to handle duplicate data, iterate over data, use multi-indexing and group data and `groupby` to handle groups of datapoints with similar characteristics and use `agg` to do multiple operations on them. pandas also provides tools for easy visualization and data storage. We will explain in time the tools we use."
      ]
    },
    {
      "cell_type": "markdown",
      "metadata": {
        "id": "ori7m8B3BUz1"
      },
      "source": [
        "## Covered in later modules"
      ]
    },
    {
      "cell_type": "markdown",
      "metadata": {
        "id": "8h8nNSEePJAw"
      },
      "source": [
        "###plotly and Dash"
      ]
    },
    {
      "cell_type": "markdown",
      "metadata": {
        "id": "miuoG8nxPMdz"
      },
      "source": [
        "Usually, [matplotib](https://matplotlib.org/) and [seaborn](https://seaborn.pydata.org/) are used for visualization of machine learning projects. However, in this course we prefer to use [plotly](https://plotly.com/) as it's fun, fast and beautiful. We will also sometimes use seabron as well and explanation for these will come at usage time. Also, [Bokeh](https://bokeh.org/) is another visualization tool that is sometimes used but one that we will not be using in this course.\n",
        "\n",
        "Also, if you want to present results, a very good tool is [Dash](https://plotly.com/dash/) by the same people who have developed plotly.\n",
        "\n",
        "Visualizations are an important part of data exploration which will be covered in module 2. If you interested to see how plolty works, you can see [some examples](https://plotly.com/python/). You can also see a [YouTube tutorial video for plotly and Dash](https://www.youtube.com/watch?v=DIk-y41djCQ&t=6s)."
      ]
    },
    {
      "cell_type": "markdown",
      "metadata": {
        "id": "6BB_iwxHS1ym"
      },
      "source": [
        "##scikit-learn"
      ]
    },
    {
      "cell_type": "markdown",
      "metadata": {
        "id": "PUyFHKAgTAzd"
      },
      "source": [
        "[scikit-learn](https://scikit-learn.org/stable/) is the machine learning library we will be using. Explanation will come in due time!"
      ]
    },
    {
      "cell_type": "markdown",
      "metadata": {
        "id": "OYzkqxEzrpGo"
      },
      "source": [
        "##FYI"
      ]
    },
    {
      "cell_type": "markdown",
      "metadata": {
        "id": "PKi6Hh5oQTTi"
      },
      "source": [
        "###SciPy library"
      ]
    },
    {
      "cell_type": "markdown",
      "metadata": {
        "id": "_i_eWYPqQVyh"
      },
      "source": [
        "[SciPy](https://www.scipy.org/) is a Python-based ecosystem, some components of which we already introduced, like NumPy, pandas and Matplotlib. There is also [SymPy](https://www.sympy.org/en/index.html) for symbolic computation and [IPython](http://ipython.org/) for interactive Python (which [Jupyter](https://jupyter.org/), and thus Google Colab, is derived from). There is one last package that can be used for machine learning but one that we don't use in this course and that is the [SciPy Library](https://www.scipy.org/scipylib/index.html). SciPy library has a collection of various tools that can help with scientific computing and machine learning. You can find a tutorial [here](https://docs.scipy.org/doc/scipy/reference/tutorial/index.html)."
      ]
    },
    {
      "cell_type": "markdown",
      "metadata": {
        "id": "Nm4a1GHHTNbS"
      },
      "source": [
        "###TensorFlow, Keras and PyTorch"
      ]
    },
    {
      "cell_type": "markdown",
      "metadata": {
        "id": "Hr5zEWQaTiKV"
      },
      "source": [
        "[TensorFlow](https://www.tensorflow.org/), [Keras](https://keras.io/) and [PyTorch](https://pytorch.org/) are tools used for more complicated kinds of machine learning like deep learning. We will not be using these in this course."
      ]
    },
    {
      "cell_type": "markdown",
      "metadata": {
        "id": "VI5hU43SNR36"
      },
      "source": [
        "That's all Folks!"
      ]
    }
  ]
}